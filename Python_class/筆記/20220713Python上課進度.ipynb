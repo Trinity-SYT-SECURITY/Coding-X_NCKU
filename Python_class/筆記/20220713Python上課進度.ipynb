{
 "cells": [
  {
   "cell_type": "markdown",
   "metadata": {},
   "source": [
    "## 2022/07/13 Python的基礎 的上課進度\n",
    "*****"
   ]
  },
  {
   "cell_type": "code",
   "execution_count": 1,
   "metadata": {},
   "outputs": [
    {
     "name": "stdout",
     "output_type": "stream",
     "text": [
      "Hello World\n"
     ]
    }
   ],
   "source": [
    "print(\"Hello World\")"
   ]
  },
  {
   "attachments": {},
   "cell_type": "markdown",
   "metadata": {},
   "source": [
    "### 變數 \n",
    "**當變數被使用時，系統會配置一塊記憶體空間給此變數**  \n",
    "**Python 變數不需宣告就可使用**  \n",
    "例: name = \"John\" #字串變數<=name變數名稱\n",
    "變數名稱 = 變數值 #將變數值 =>指定給 => 變數名稱"
   ]
  },
  {
   "cell_type": "code",
   "execution_count": 2,
   "metadata": {},
   "outputs": [
    {
     "name": "stdout",
     "output_type": "stream",
     "text": [
      "Paul，您好\n"
     ]
    }
   ],
   "source": [
    "name = \"Paul\" #姓名變數name<=\"Paul\"\n",
    "print(name + \"，您好\") #輸出 變數name+字串"
   ]
  },
  {
   "cell_type": "code",
   "execution_count": 9,
   "metadata": {},
   "outputs": [
    {
     "name": "stdout",
     "output_type": "stream",
     "text": [
      "a= 30 ,b= 30 ,c= 30 下一行\t30, 30, 30\n"
     ]
    }
   ],
   "source": [
    "a = b = c = 30 #a, b,c 三變數<=30, 多變數同時宣告\n",
    "print (\"a=\" , a , \",b=\" , b , \",c=\" , c, end=\" 下一行\\t\")\n",
    "print(a, b, c, sep=\", \")"
   ]
  },
  {
   "attachments": {},
   "cell_type": "markdown",
   "metadata": {},
   "source": [
    "## 輸出\n",
    "**利用 print 輸出到螢幕的語法有三種：**\n",
    "--簡易法\n",
    "print(\"TQC+ Python 3認證考試\")\n",
    "--格式化輸出\n",
    "print(\"%3.2f\" % num)\n",
    "--交給 Python 處理\n",
    "print(“{} 好棒棒”.format(name))"
   ]
  },
  {
   "attachments": {},
   "cell_type": "markdown",
   "metadata": {},
   "source": [
    "### print 命令能將指定項目輸出到螢幕，語法為：\n",
    "** print(項目1[, 項目2, …, sep = 分隔字元, end = 結束字元 ]) **\n",
    "項目1, 項目2, …：可以一次輸出多個項目，以逗號分隔\n",
    "sep：分隔項目的字元，預設值為一個空白\n",
    "end：輸出完後自動加入的字元，預設值為換行字元(\\n)"
   ]
  },
  {
   "attachments": {},
   "cell_type": "markdown",
   "metadata": {},
   "source": [
    "### print 命令支援參數格式化功能，語法為：\n",
    "「%s」=> 字串\n",
    "「%d」=> 整數\n",
    "「%f」=> 浮點數\n",
    "*** print(項目 % (參數列)) ***"
   ]
  },
  {
   "cell_type": "code",
   "execution_count": 12,
   "metadata": {},
   "outputs": [
    {
     "name": "stdout",
     "output_type": "stream",
     "text": [
      "圓周率 = 3.14000\n",
      "圓周率 =  3.1\n",
      " 99\n",
      "99 \n"
     ]
    }
   ],
   "source": [
    "pi = 3.14 #圓周率變數\n",
    "\n",
    "print(\"圓周率 = %3.5f\" % pi) #3.14000\n",
    "print(\"圓周率 = %4.1f\" % pi) # 3.1\n",
    "\n",
    "num = 99 #整數變數\n",
    "print(\"%3d\" % num) #正數，靠右對齊，左邊補空白\n",
    "print(\"%-3d\" % num) #負數，靠左對齊，右邊補空白"
   ]
  },
  {
   "attachments": {},
   "cell_type": "markdown",
   "metadata": {},
   "source": [
    "### 也可使用字串的 format 方法來做格式化\n",
    "*** 以一對大括號「{}」表示參數的位置，語法為：***\n",
    "print(字串.format(參數列))"
   ]
  },
  {
   "cell_type": "code",
   "execution_count": 13,
   "metadata": {},
   "outputs": [
    {
     "name": "stdout",
     "output_type": "stream",
     "text": [
      "John 的成績是: 99\n"
     ]
    }
   ],
   "source": [
    "name = \"John\"\n",
    "score = 99\n",
    "print(\"{} 的成績是: {}\".format(name, score))"
   ]
  },
  {
   "cell_type": "markdown",
   "metadata": {},
   "source": [
    "*** 01-01 整數格式化輸出 ***\n",
    "請撰寫一程式，指定四個整數，然後將這四個整數以欄寬為5、欄與欄間隔一個空白字元，再以每列印兩個的方式，先列印向右靠齊，再列印向左靠齊，左右皆以直線 |（Vertical bar）作為邊界。"
   ]
  },
  {
   "cell_type": "code",
   "execution_count": 15,
   "metadata": {},
   "outputs": [
    {
     "name": "stdout",
     "output_type": "stream",
     "text": [
      "--靠右對齊--\n",
      "|   12   456|\n",
      "|56222  7890|\n",
      "--靠左對齊--\n",
      "|12    456  |\n",
      "|56222 7890 |\n"
     ]
    }
   ],
   "source": [
    "a = 12   #指定四個整數\n",
    "b = 456\n",
    "c = 56222\n",
    "d = 7890\n",
    "#以両両的方式，輸出四個變數\n",
    "print(\"--靠右對齊--\")\n",
    "print(\"|%5d %5d|\" % (a, b))\n",
    "print(\"|%5d %5d|\" % (c, d))\n",
    "print(\"--靠左對齊--\")\n",
    "print(\"|%-5d %-5d|\" % (a, b))\n",
    "print(\"|%-5d %-5d|\" % (c, d))"
   ]
  },
  {
   "cell_type": "markdown",
   "metadata": {},
   "source": [
    "*** 01-02浮點數格式化輸出 ***\n",
    "請寫一程式，指定四個分別含有小數1到4位的浮點數，然後將這四個浮點數以欄寬7，每列印兩個的方式，  \n",
    "先列印向右靠齊，在列印向左靠齊，左右皆以直線|作為邊界。*提示:輸出浮點數到小數後第二位。"
   ]
  },
  {
   "cell_type": "code",
   "execution_count": 17,
   "metadata": {},
   "outputs": [
    {
     "name": "stdout",
     "output_type": "stream",
     "text": [
      "--靠右對齊--\n",
      "|  12.46  456.32|\n",
      "|6222.30 7890.65|\n",
      "\n",
      "--靠左對齊--\n",
      "|12.46   456.32 |\n",
      "|6222.30 7890.65|\n"
     ]
    }
   ],
   "source": [
    "num1 = 12.4567   #指定四個浮點數\n",
    "num2 = 456.321\n",
    "num3 = 6222.3\n",
    "num4 = 7890.65\n",
    "#以両両的方式，輸出四個浮點數變數\n",
    "print(\"--靠右對齊--\")\n",
    "print(\"|%7.2f %7.2f|\" % (num1, num2))\n",
    "print(\"|%7.2f %7.2f|\" % (num3, num4))\n",
    "print(\"\\n--靠左對齊--\")\n",
    "print(\"|%-7.2f %-7.2f|\" % (num1, num2))\n",
    "print(\"|%-7.2f %-7.2f|\" % (num3, num4))"
   ]
  },
  {
   "attachments": {},
   "cell_type": "markdown",
   "metadata": {},
   "source": [
    "### 輸入資料\n",
    "*** 變數 = input([提示字串]) ***"
   ]
  },
  {
   "cell_type": "code",
   "execution_count": 22,
   "metadata": {},
   "outputs": [
    {
     "name": "stdout",
     "output_type": "stream",
     "text": [
      "請輸入你的數學成績:50.3\n",
      "您的數學成績 50.3\n",
      "您的成績+10= 60.3\n"
     ]
    }
   ],
   "source": [
    "#score = int(input(\"請輸入你的數學成績:\")) #輸入成績 => score=>字串 =>轉換int\n",
    "score = eval(input(\"請輸入你的數學成績:\")) #輸入成績 => score=>字串 =>轉換eval數值\n",
    "print (\"您的數學成績\", score)\n",
    "\n",
    "print(\"您的成績+10=\", (score + 10))"
   ]
  },
  {
   "attachments": {},
   "cell_type": "markdown",
   "metadata": {},
   "source": [
    "*** Python 強制資料型態轉換命令有： ***\n",
    "int() 轉換為整數型態\n",
    "float() 轉換為浮點數型態\n",
    "bool() 轉換為布林型態\n",
    "str() 轉換為字串型態"
   ]
  },
  {
   "cell_type": "code",
   "execution_count": 29,
   "metadata": {},
   "outputs": [
    {
     "ename": "TypeError",
     "evalue": "'str' object is not callable",
     "output_type": "error",
     "traceback": [
      "\u001b[1;31m---------------------------------------------------------------------------\u001b[0m",
      "\u001b[1;31mTypeError\u001b[0m                                 Traceback (most recent call last)",
      "\u001b[1;32m<ipython-input-29-2259b0423dd8>\u001b[0m in \u001b[0;36m<module>\u001b[1;34m()\u001b[0m\n\u001b[0;32m      2\u001b[0m \u001b[0mnum\u001b[0m \u001b[1;33m=\u001b[0m \u001b[1;36m23\u001b[0m \u001b[1;33m+\u001b[0m \u001b[0mint\u001b[0m\u001b[1;33m(\u001b[0m\u001b[0mstring\u001b[0m\u001b[1;33m)\u001b[0m\u001b[1;33m\u001b[0m\u001b[0m\n\u001b[0;32m      3\u001b[0m \u001b[1;33m\u001b[0m\u001b[0m\n\u001b[1;32m----> 4\u001b[1;33m \u001b[0mprint\u001b[0m\u001b[1;33m(\u001b[0m\u001b[1;34m\"23 + 67 = \"\u001b[0m \u001b[1;33m+\u001b[0m  \u001b[0mstr\u001b[0m\u001b[1;33m(\u001b[0m\u001b[0mnum\u001b[0m\u001b[1;33m)\u001b[0m\u001b[1;33m)\u001b[0m\u001b[1;33m\u001b[0m\u001b[0m\n\u001b[0m",
      "\u001b[1;31mTypeError\u001b[0m: 'str' object is not callable"
     ]
    }
   ],
   "source": [
    "string = \"67\"\n",
    "num = 23 + int(string)\n",
    "\n",
    "print(\"23 + 67 = \" +  str(num))"
   ]
  },
  {
   "cell_type": "code",
   "execution_count": null,
   "metadata": {
    "collapsed": true
   },
   "outputs": [],
   "source": []
  }
 ],
 "metadata": {
  "kernelspec": {
   "display_name": "Python 3",
   "language": "python",
   "name": "python3"
  },
  "language_info": {
   "codemirror_mode": {
    "name": "ipython",
    "version": 3
   },
   "file_extension": ".py",
   "mimetype": "text/x-python",
   "name": "python",
   "nbconvert_exporter": "python",
   "pygments_lexer": "ipython3",
   "version": "3.6.3"
  }
 },
 "nbformat": 4,
 "nbformat_minor": 2
}
