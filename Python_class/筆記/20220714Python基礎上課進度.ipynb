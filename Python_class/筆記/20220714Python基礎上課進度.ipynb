{
  "nbformat": 4,
  "nbformat_minor": 0,
  "metadata": {
    "colab": {
      "name": "20220714Python基礎上課進度.ipynb",
      "provenance": [],
      "collapsed_sections": []
    },
    "kernelspec": {
      "name": "python3",
      "display_name": "Python 3"
    },
    "language_info": {
      "name": "python"
    }
  },
  "cells": [
    {
      "cell_type": "markdown",
      "source": [
        "## **2022/07/13 Python的基礎 的上課進度 **"
      ],
      "metadata": {
        "id": "Ac3lY3hvSI3h"
      }
    },
    {
      "cell_type": "markdown",
      "source": [
        "**01-04 圓形面積計算**  \n",
        "請寫一程式，輸入一圓的半徑，並加以計算此圓的面積和周長，最後印出此圓的半徑(Radius)，周長(Perimeter)和面積(Area)。  \n",
        "**提示:需import math，並使用math.pi，輸出浮點數到小數後第二位。"
      ],
      "metadata": {
        "id": "NrtP61aUUsMo"
      }
    },
    {
      "cell_type": "code",
      "execution_count": null,
      "metadata": {
        "colab": {
          "base_uri": "https://localhost:8080/"
        },
        "id": "YsWqABZ1RgSO",
        "outputId": "8ef1ecdb-d35e-47cd-ac34-4025ea3d1b81"
      },
      "outputs": [
        {
          "output_type": "stream",
          "name": "stdout",
          "text": [
            "請輸入一圓的半徑:10\n",
            "半徑(Radius)= 10.00\n",
            "周長(Perimeter)= 62.83\n",
            "面積(Area)= 314.16\n"
          ]
        }
      ],
      "source": [
        "import math #導入數學模組\n",
        "PI = math.pi #圓周率\n",
        "radius = eval(input(\"請輸入一圓的半徑:\")) #輸入半徑\n",
        "#計算周長，面積\n",
        "print(\"半徑(Radius)= %.2f\" % radius)\n",
        "print(\"周長(Perimeter)= %.2f\" % (2 * PI * radius)) #計算周長並輸出\n",
        "#print(\"面積(Area)= %.2f\" % (PI * pow(radius,2) )) #計算圓面積並輸出，pow(radius,2)=r平方\n",
        "print(\"面積(Area)= %.2f\" % (PI * (radius ** 2) )) #計算圓面積並輸出，radius ** 2=r的2次方"
      ]
    },
    {
      "cell_type": "markdown",
      "source": [
        "###邏輯運算子\n",
        "AND(且): 全部符合(True)->二者為真，才為真  \n",
        "OR(或): 部分符合(True)->一者為真，既為真  \n",
        "NOT(非): 非真既假"
      ],
      "metadata": {
        "id": "Ofd5hd8qb8QQ"
      }
    },
    {
      "cell_type": "markdown",
      "source": [
        "**01-07 數值計算**  \n",
        "請撰寫一程式，讓使用者輸入五個數字，計算並輸出這五個數字之數值、總和及平均數(輸出到小數一位)  \n",
        "Ans:"
      ],
      "metadata": {
        "id": "X6yVxA5bdE3n"
      }
    },
    {
      "cell_type": "code",
      "source": [
        "#五個數字的輸入\n",
        "num1 = eval(input(\"請輸入一數值1:\"))\n",
        "num2 = eval(input(\"請輸入一數值2:\"))\n",
        "num3 = eval(input(\"請輸入一數值3:\"))\n",
        "num4 = eval(input(\"請輸入一數值4:\"))\n",
        "num5 = eval(input(\"請輸入一數值5:\"))\n",
        "#計算(運算)\n",
        "sum5 = num1 + num2 + num3 + num4 + num5 #總和\n",
        "avg5 = sum5 / 5 #平均值\n",
        "#輸出結果\n",
        "print(\"{} {} {} {} {}\".format(num1, num2, num3, num4, num5)) #輸出原輸入\n",
        "print(\"總和Sum= %.1f\" % sum5) #總和輸出\n",
        "print(\"平均Average= %.1f\" % avg5) #平均輸出"
      ],
      "metadata": {
        "colab": {
          "base_uri": "https://localhost:8080/"
        },
        "id": "HKF9XUU6hHcS",
        "outputId": "08802b41-4304-4f9e-b20d-af930e3ab0db"
      },
      "execution_count": null,
      "outputs": [
        {
          "output_type": "stream",
          "name": "stdout",
          "text": [
            "請輸入一數值1:20\n",
            "請輸入一數值2:30\n",
            "請輸入一數值3:60\n",
            "請輸入一數值4:50\n",
            "請輸入一數值5:40\n",
            "20 30 60 50 40\n",
            "總和Sum= 200.0\n",
            "平均Average= 40.0\n"
          ]
        }
      ]
    },
    {
      "cell_type": "markdown",
      "source": [
        "**練習__習題**  \n",
        "請寫一程式，請使用者輸入華氏溫度，然後輸出其對應的攝氏溫度。  \n",
        "提示:攝氏=(華氏-32)*5/9，輸出小數後2位  \n",
        "Ans:"
      ],
      "metadata": {
        "id": "iMKMAVPifYEN"
      }
    },
    {
      "cell_type": "code",
      "source": [
        "#輸入 華氏度\n",
        "fDegree = eval(input(\"請輸入與(轉換)的一華氏度:\"))\n",
        "#轉換<=運算\n",
        "cDegree = (fDegree - 32)* (5/9) #轉成 攝氏度\n",
        "#輸出結果\n",
        "print(\"Fahrenheit(華氏度) %.2f ---> Celsius(攝氏度) %.2f\"%(fDegree, cDegree))"
      ],
      "metadata": {
        "colab": {
          "base_uri": "https://localhost:8080/"
        },
        "id": "HVm0PqfqkYaK",
        "outputId": "17cefb1d-05c3-4c75-e2df-f626e04bba8a"
      },
      "execution_count": null,
      "outputs": [
        {
          "output_type": "stream",
          "name": "stdout",
          "text": [
            "請輸入與(轉換)的一華氏度:100\n",
            "Fahrenheit(華氏度) 100.00 ---> Celsius(攝氏度) 37.78\n"
          ]
        }
      ]
    },
    {
      "cell_type": "code",
      "source": [
        "# 交換a, b兩變數\n",
        "a = 3\n",
        "b = 5\n",
        "print(\"交換前 a=%3d b=%3d\"%(a, b))\n",
        "#開始交換\n",
        "\"\"\"\n",
        "#傳統交換法\n",
        "temp = a  #a=>temp\n",
        "a =b    # b=>a\n",
        "b = temp  # temp=>b =>a<=>b\n",
        "\"\"\"\n",
        "#pythonic 寫法\n",
        "a, b = b, a \n",
        "print(\"交換後 a=%3d b=%3d\"%(a, b))  #輸出結果\n"
      ],
      "metadata": {
        "colab": {
          "base_uri": "https://localhost:8080/"
        },
        "id": "WxX2r8hOoyYb",
        "outputId": "b306eedc-8173-4818-a614-1c47391e0aac"
      },
      "execution_count": null,
      "outputs": [
        {
          "output_type": "stream",
          "name": "stdout",
          "text": [
            "交換前 a=  3 b=  5\n",
            "交換後 a=  5 b=  3\n"
          ]
        }
      ]
    },
    {
      "cell_type": "code",
      "source": [
        "#假設 a = 3, b = 1\n",
        "a = 3\n",
        "b = 1\n",
        "#請寫程式輸出下列判別式的真(True)、假(False)值\n",
        "print(\"(1<=b) and (b<=a) and (a<10)=>\", ((1<=b) and (b<=a) and (a<10)))\n",
        "#(((1<=1) and (1<=3)) and (3<10))\n",
        "#(True and True) and True => True\n",
        "#Pythonic 寫法\n",
        "#1<=b<=a<=10 => 1<=1<=3<=10 =>True\n",
        "print(\"1<=b<=a<=10 =>\", (1<=b<=a<=10))"
      ],
      "metadata": {
        "colab": {
          "base_uri": "https://localhost:8080/"
        },
        "id": "fIMmstOyugPH",
        "outputId": "9fdc8492-14ce-4565-d124-ba9bf14d31cd"
      },
      "execution_count": null,
      "outputs": [
        {
          "output_type": "stream",
          "name": "stdout",
          "text": [
            "(1<=b) and (b<=a) and (a<10)=> True\n",
            "1<=b<=a<=10 => True\n"
          ]
        }
      ]
    },
    {
      "cell_type": "markdown",
      "source": [
        "## 流程控制 ##  \n",
        "**判斷式** if, if_else, if_elif_else   \n",
        "**是否符合條件進入不同區段**"
      ],
      "metadata": {
        "id": "sblkRAlNvmbn"
      }
    },
    {
      "cell_type": "code",
      "source": [
        "#輸入一成績，判斷是否及格?\n",
        "score = eval(input(\"請輸入您的成績以判斷是否及格?\"))\n",
        "#判斷並輸出是否及格\n",
        "if (0<=score<60): #不及格的條件\n",
        "  print(\"您的成績 {} 不及格\".format(score)) #符合條件\n",
        "else: #否則\n",
        "  print(\"您的成績 {} 及格\".format(score)) #不符合條件"
      ],
      "metadata": {
        "colab": {
          "base_uri": "https://localhost:8080/"
        },
        "id": "1VUctF5tyCu9",
        "outputId": "af925fad-de71-44d3-dd55-0ca436436d98"
      },
      "execution_count": null,
      "outputs": [
        {
          "output_type": "stream",
          "name": "stdout",
          "text": [
            "請輸入您的成績以判斷是否及格?80\n",
            "您的成績 80 及格\n"
          ]
        }
      ]
    },
    {
      "cell_type": "markdown",
      "source": [
        "**02-01 偶數判斷**  \n",
        "請使用選擇敘述撰寫一程式，讓使用者輸入一個正整數，然後判斷它是否為偶數（even）。  \n",
        "Ans:"
      ],
      "metadata": {
        "id": "effCl_aJzZ2B"
      }
    },
    {
      "cell_type": "code",
      "source": [
        "n = eval(input(\"請輸入一正整數\")) \n",
        "#判斷偶奇數並輸出\n",
        "if (n % 2) == 0:\n",
        "  #print(\"{} 是偶數\".format(n))\n",
        "  print(\"%d is even number(偶數).\" % n)\n",
        "else:\n",
        "  print(\"%d is odd number(奇數).\" % n)  "
      ],
      "metadata": {
        "colab": {
          "base_uri": "https://localhost:8080/"
        },
        "id": "a5OjGe7ozjUm",
        "outputId": "9b492191-14a6-4013-ddb1-12bd1fbb58e2"
      },
      "execution_count": null,
      "outputs": [
        {
          "output_type": "stream",
          "name": "stdout",
          "text": [
            "請輸入一正整數45\n",
            "45 is odd number(奇數).\n"
          ]
        }
      ]
    },
    {
      "cell_type": "code",
      "source": [
        "#百分比成績轉等地\n",
        "score = eval(input(\"請輸入您的成績:\"))\n",
        "level = \"分不出\" #等第\n",
        "if (90 <= score):\n",
        "  level = \"優等\"\n",
        "elif (80 <= score < 90):\n",
        "  level = \"甲等\"\n",
        "elif (70 <= score < 80):\n",
        "  level = \"乙等\"\n",
        "elif (60 <= score < 70):\n",
        "  level = \"丙等\"\n",
        "elif (0 <= score < 60):\n",
        "  level = \"不及格\"\n",
        "#輸出成績的等第\n",
        "print(\"%d 的等第 %s\"%(score, level))"
      ],
      "metadata": {
        "colab": {
          "base_uri": "https://localhost:8080/"
        },
        "id": "xXV5iIZl17hu",
        "outputId": "04d809ef-2e9c-40e2-ec83-6bc42e2a35f9"
      },
      "execution_count": null,
      "outputs": [
        {
          "output_type": "stream",
          "name": "stdout",
          "text": [
            "請輸入您的成績:-10\n",
            "-10 的等第 分不出\n"
          ]
        }
      ]
    },
    {
      "cell_type": "markdown",
      "source": [
        "**02-02 倍數判斷**  \n",
        "請以選擇敘述寫一程式，讓使用者輸入一個正整數，然後判斷它是3或5的倍數，若此數同時為3與5的倍數，顯示[x is a muliple of 3 and 5.]  \n",
        ";如此此數值皆不屬於3或5的倍數，顯示[x is not a multiple of 3 or 5.]，將使用者輸入的數值帶入x。  \n",
        "Ans:"
      ],
      "metadata": {
        "id": "mSvKwWfsHtou"
      }
    },
    {
      "cell_type": "code",
      "source": [
        "numx = eval(input(\"請輸入一正整數(判別3,5的倍數):\")) #x\n",
        "#判別倍數的過程，1.(3與5的倍數)，2.(3的倍數)，3.(5的倍數)\n",
        "if (numx % 3 ==0) & (numx % 5 ==0): #(3與5的倍數)\n",
        "  print( \"%d is a multiple of 3 and 5.\" % numx)\n",
        "elif (numx % 3 == 0):           #(3的倍數)\n",
        "  print( \"%d is a multiple of 3.\" % numx)\n",
        "elif (numx % 5 == 0):           #(5的倍數)\n",
        "  print( \"%d is a multiple of 5.\" % numx)\n",
        "else:                     #非 3 或 5 的倍數，以上皆非\n",
        "  print( \"%d is not a multiple of 3 or 5.\" % numx)"
      ],
      "metadata": {
        "colab": {
          "base_uri": "https://localhost:8080/"
        },
        "id": "A6qa0H8RHy-e",
        "outputId": "87c5ee7b-d0d0-41cb-aa58-230f0639ad62"
      },
      "execution_count": null,
      "outputs": [
        {
          "output_type": "stream",
          "name": "stdout",
          "text": [
            "請輸入一正整數(判別3,5的倍數):4\n",
            "4 is not a multiple of 3 or 5.\n"
          ]
        }
      ]
    },
    {
      "cell_type": "code",
      "source": [
        "#  成績百分比轉等第使用巢狀\n",
        "# 輸入成績\n",
        "score = eval(input(\"請輸入您的成績(0-100):\"))\n",
        "level = \"輸入錯誤(0-100之間)\" #等第\n",
        "if (0 <= score <=100): #輸入成績在0-100合法中\n",
        "  if (90 <= score):\n",
        "    level = \"優等\"\n",
        "  elif (80 <= score < 90):\n",
        "    level = \"甲等\"\n",
        "  elif (70 <= score < 80):\n",
        "    level = \"乙等\"\n",
        "  elif (60 <= score < 70):\n",
        "    level = \"丙等\"\n",
        "  elif (score < 60):\n",
        "    level = \"不及格\"\n",
        "else:\n",
        "  level = \"輸入錯誤，成績須在0-100之間!!\"\n",
        "#輸出成績的等第\n",
        "print(\"%d 的等第 %s\"%(score, level))"
      ],
      "metadata": {
        "colab": {
          "base_uri": "https://localhost:8080/"
        },
        "id": "HktohBn1HzaZ",
        "outputId": "baf49f48-2a07-4e18-b9f7-1516cafcc967"
      },
      "execution_count": null,
      "outputs": [
        {
          "output_type": "stream",
          "name": "stdout",
          "text": [
            "請輸入您的成績(0-100):85\n",
            "85 的等第 甲等\n"
          ]
        }
      ]
    },
    {
      "cell_type": "markdown",
      "source": [
        "**02-04 算術運算**  \n",
        "請以選擇敘述寫一程式，讓使用者輸入兩個整數a, b，然後在輸入一算術運算子(+、-、*、/、//、%)，輸出這兩個數以及其經過運算後的結果。(例:輸入3, 5, * =>輸出 3 * 5=15)"
      ],
      "metadata": {
        "id": "bObAcPV2H68h"
      }
    },
    {
      "cell_type": "code",
      "source": [
        "numx = int(input(\"請輸入一整數(運算元1):\"))\n",
        "numy = int(input(\"請輸入一整數(運算元2):\"))\n",
        "oper = input(\"請輸入一運算子(+-*/..):\")\n",
        "if oper == \"+\":\n",
        "  ans1 = numx + numy\n",
        "elif oper == \"-\":\n",
        "  ans1 = numx - numy\n",
        "elif oper == \"*\":\n",
        "  ans1 = numx * numy\n",
        "elif oper == \"/\":\n",
        "  ans1 = numx / numy\n",
        "elif oper == \"%\":\n",
        "  ans1 = numx % numy\n",
        "elif oper == \"//\":\n",
        "  ans1 = numx // numy\n",
        "#輸出運算式及結果\n",
        "print(\"%d %s %d = %.2f\" % (numx, oper, numy, ans1))"
      ],
      "metadata": {
        "colab": {
          "base_uri": "https://localhost:8080/"
        },
        "id": "jGnHNaPxIBW1",
        "outputId": "721116fd-4ae0-48f4-a57b-a15877f13b9d"
      },
      "execution_count": null,
      "outputs": [
        {
          "output_type": "stream",
          "name": "stdout",
          "text": [
            "請輸入一整數(運算元1):15\n",
            "請輸入一整數(運算元2):2\n",
            "請輸入一運算子(+-*/..):%\n",
            "15 % 2 = 1.00\n"
          ]
        }
      ]
    },
    {
      "cell_type": "code",
      "source": [
        "#運算式<-Pythonic寫法\n",
        "numx = input(\"請輸入一整數(運算元1):\")\n",
        "numy = input(\"請輸入一整數(運算元2):\")\n",
        "oper = input(\"請輸入一運算子(+-*/..):\")\n",
        "print(numx + oper + numy + \"=\", eval(numx + oper + numy))"
      ],
      "metadata": {
        "colab": {
          "base_uri": "https://localhost:8080/"
        },
        "id": "BZA79iRSgpjf",
        "outputId": "0e50ca71-d93e-4bc0-e9a6-bba18786dc89"
      },
      "execution_count": null,
      "outputs": [
        {
          "output_type": "stream",
          "name": "stdout",
          "text": [
            "請輸入一整數(運算元1):5\n",
            "請輸入一整數(運算元2):3\n",
            "請輸入一運算子(+-*/..):/\n",
            "5/3= 1.6666666666666667\n"
          ]
        }
      ]
    },
    {
      "cell_type": "markdown",
      "source": [
        "## 迴圈 LOOP\n",
        "> ## --串列 List []"
      ],
      "metadata": {
        "id": "6sPPqwxplJ_8"
      }
    },
    {
      "cell_type": "code",
      "source": [
        "score = [66, 88, 77] # 三個成績=>List score\n",
        "print(score)"
      ],
      "metadata": {
        "colab": {
          "base_uri": "https://localhost:8080/"
        },
        "id": "Bf-tFmNDn8oC",
        "outputId": "fc635dc8-97e8-4335-efa6-0fa55c1fba2c"
      },
      "execution_count": null,
      "outputs": [
        {
          "output_type": "stream",
          "name": "stdout",
          "text": [
            "[66, 88, 77]\n"
          ]
        }
      ]
    },
    {
      "cell_type": "code",
      "source": [
        "list2 = [\"AAA\", \"BBB\", \"CCC\", \"DDD\", \"EEE\", \"FFF\"] #字串List\n",
        "#輸出元素\n",
        "print(list2) #輸出整個List\n",
        "print(\"list2[1]=\", list2[1]) #List的第二個元素[1]\n",
        "#print(\"list2[6]=\", list2[6]) #List的第?個元素[6]<-ERROR\n",
        "print(\"list2[-1]=\",list2[-1]) #List2的倒數第一個元素[-1]\n",
        "print(\"list2[-6]=\",list2[-6]) #List2的倒數第六個元素[-6]\n",
        "#print(\"list2[-7]=\",list2[-7]) #ERROR"
      ],
      "metadata": {
        "colab": {
          "base_uri": "https://localhost:8080/"
        },
        "id": "jgn87OccoNa_",
        "outputId": "06246cd4-d829-4d8d-c52b-75e2ea1f4595"
      },
      "execution_count": null,
      "outputs": [
        {
          "output_type": "stream",
          "name": "stdout",
          "text": [
            "['AAA', 'BBB', 'CCC', 'DDD', 'EEE', 'FFF']\n",
            "list2[1]= BBB\n",
            "list2[-1]= FFF\n",
            "list2[-6]= AAA\n"
          ]
        }
      ]
    },
    {
      "cell_type": "markdown",
      "source": [
        "> ## --range()函式   \n",
        ">> 產生一整數數列串列List的動作\n",
        ">>>range 函式包含 2 個參數的語法為：  \n",
        ">>>range(起始值, 終止值+1)\n",
        "  \n",
        ">>>range 函式包含 3 個參數的語法為:  \n",
        ">>>range(起始值, 終止值, 間隔值)"
      ],
      "metadata": {
        "id": "qwglN_zHuD6D"
      }
    },
    {
      "cell_type": "code",
      "source": [
        "print(range(5)) #錯誤，只顯示函式的範圍\n",
        "lst0 = range(5) #range(5)->lst0->0,1,2,3,4\n",
        "list1 = range(3,7) #list1->3,4,5,6\n",
        "list2 = range(-6,-2) #list2->-6, -5, -4, -3\n",
        "list3 = range(-2,-6)  #無解，非遞增\n",
        "print(list1)\n",
        "print(list2)\n",
        "print(list3)"
      ],
      "metadata": {
        "colab": {
          "base_uri": "https://localhost:8080/"
        },
        "id": "qoOSQxxQugnj",
        "outputId": "51fddbdf-f3f9-4511-a01e-8298ecbdf211"
      },
      "execution_count": null,
      "outputs": [
        {
          "output_type": "stream",
          "name": "stdout",
          "text": [
            "range(0, 5)\n",
            "range(3, 7)\n",
            "range(-6, -2)\n",
            "range(-2, -6)\n"
          ]
        }
      ]
    },
    {
      "cell_type": "markdown",
      "source": [
        "## for 可數迴圈\n",
        "**for語法:**  \n",
        ">>for 變數 in 串列：\n",
        ">>>    程式區塊"
      ],
      "metadata": {
        "id": "cp1xPHLjybzi"
      }
    },
    {
      "cell_type": "code",
      "source": [
        "## for 迴圈 10個的整數的平方列表\n",
        "for i in range(10):\n",
        "  print(i,end=\" 的2次方= \") #range(10)的元素輸出\n",
        "  print(i**2) #i的2次方\n"
      ],
      "metadata": {
        "colab": {
          "base_uri": "https://localhost:8080/"
        },
        "id": "pIVkK2mnzY_t",
        "outputId": "5cae33d6-8c8a-4a01-bea8-7a81480aa89a"
      },
      "execution_count": null,
      "outputs": [
        {
          "output_type": "stream",
          "name": "stdout",
          "text": [
            "0 的2次方= 0\n",
            "1 的2次方= 1\n",
            "2 的2次方= 4\n",
            "3 的2次方= 9\n",
            "4 的2次方= 16\n",
            "5 的2次方= 25\n",
            "6 的2次方= 36\n",
            "7 的2次方= 49\n",
            "8 的2次方= 64\n",
            "9 的2次方= 81\n"
          ]
        }
      ]
    },
    {
      "cell_type": "code",
      "source": [
        "#1-10的列表並加總\n",
        "totali = 0 #總和\n",
        "for i in range(1,11):\n",
        "  print(i) #目前的i值\n",
        "  totali += i #totali = totali + i =>將i值加入到總和\n",
        "print(\"上述總和:\", totali)  #輸出總和"
      ],
      "metadata": {
        "colab": {
          "base_uri": "https://localhost:8080/"
        },
        "id": "Q416bYHe0jZk",
        "outputId": "6e82d557-e523-4d3f-d03f-d39e90700e4b"
      },
      "execution_count": null,
      "outputs": [
        {
          "output_type": "stream",
          "name": "stdout",
          "text": [
            "1\n",
            "2\n",
            "3\n",
            "4\n",
            "5\n",
            "6\n",
            "7\n",
            "8\n",
            "9\n",
            "10\n",
            "上述總和: 55\n"
          ]
        }
      ]
    }
  ]
}