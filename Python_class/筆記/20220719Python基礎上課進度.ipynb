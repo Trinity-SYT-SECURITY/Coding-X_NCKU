{
  "nbformat": 4,
  "nbformat_minor": 0,
  "metadata": {
    "colab": {
      "name": "20220719Python基礎上課進度.ipynb",
      "provenance": [],
      "collapsed_sections": []
    },
    "kernelspec": {
      "name": "python3",
      "display_name": "Python 3"
    },
    "language_info": {
      "name": "python"
    }
  },
  "cells": [
    {
      "cell_type": "markdown",
      "source": [
        "##*2022/07/18 Python的基礎 的上課進度 *"
      ],
      "metadata": {
        "id": "7Vj55qrSlwEO"
      }
    },
    {
      "cell_type": "code",
      "source": [
        ""
      ],
      "metadata": {
        "id": "7E90ZEAgHTCs"
      },
      "execution_count": null,
      "outputs": []
    },
    {
      "cell_type": "code",
      "source": [
        "#List Append & Extend\n",
        "lst = [3,5,7] #主List\n",
        "lst1 = [2,4,6,8] #次要的List\n",
        "lst.append(lst1) #[3, 5, 7, [2, 4, 6, 8]]\n",
        "print(lst)\n",
        "\n",
        "#extend\n",
        "lst = [3,5,7] #主List\n",
        "lst1 = [2,4,6,8] #次要的List\n",
        "lst.extend(lst1) #lst延伸了lst1=>[3, 5, 7, 2, 4, 6, 8]\n",
        "print(lst)"
      ],
      "metadata": {
        "colab": {
          "base_uri": "https://localhost:8080/"
        },
        "id": "yLox2MVpAOtN",
        "outputId": "98ad9bce-5966-4339-8e84-509917c62bdd"
      },
      "execution_count": null,
      "outputs": [
        {
          "output_type": "stream",
          "name": "stdout",
          "text": [
            "[3, 5, 7, [2, 4, 6, 8]]\n",
            "[3, 5, 7, 2, 4, 6, 8]\n"
          ]
        }
      ]
    },
    {
      "cell_type": "code",
      "source": [
        "#pop() \n",
        "lst = [1,2,3,4,5,6]\n",
        "#n = lst.pop() #=> 最後的元素刪除=>n\n",
        "print(lst.pop()) #顯示最後的元素並刪除=>6，lst=[1,2,3,4,5]\n",
        "print(lst) #pop後的元素列表\n",
        "print(lst.pop(3)) #顯示索引3的元素並刪除=>4，lst=[1,2,3,5]\n",
        "print(lst) #pop後的元素列表"
      ],
      "metadata": {
        "colab": {
          "base_uri": "https://localhost:8080/"
        },
        "id": "V1tqcsQlBgji",
        "outputId": "5a26c1ac-5898-47b2-dd71-a1bee57f4a78"
      },
      "execution_count": null,
      "outputs": [
        {
          "output_type": "stream",
          "name": "stdout",
          "text": [
            "6\n",
            "[1, 2, 3, 4, 5]\n",
            "4\n",
            "[1, 2, 3, 5]\n"
          ]
        }
      ]
    },
    {
      "cell_type": "markdown",
      "source": [
        "**串列分割**"
      ],
      "metadata": {
        "id": "sx7yMMyU8TWt"
      }
    },
    {
      "cell_type": "code",
      "execution_count": null,
      "metadata": {
        "colab": {
          "base_uri": "https://localhost:8080/"
        },
        "id": "QBFtgTLblpki",
        "outputId": "4545311f-e375-4e0e-afc3-81a38de61af8"
      },
      "outputs": [
        {
          "output_type": "stream",
          "name": "stdout",
          "text": [
            "[5, 2]\n",
            "[2, 3, 5]\n",
            "[21, 99]\n",
            "[2, 33]\n",
            "[3, 2]\n"
          ]
        }
      ],
      "source": [
        "lst = [2,3,5,2,33,21,99] #主List\n",
        "print(lst[2:4]) #索引2-3 位置:3-4=>[5,2]\n",
        "print(lst[:3]) #索引0-2 位置:1-3=>[2,3,5]\n",
        "print(lst[5:]) #索引5-6 位置:6-7=>[21,99]\n",
        "print(lst[-4:-2]) #索引-4(3)--3(4) 位置:4-5=>[2,33]\n",
        "print(lst[1:5:2]) #索引1,3=>[3,2]"
      ]
    },
    {
      "cell_type": "code",
      "source": [
        "lst = [2,3,5,2,33,21,99]\n",
        "#反轉\n",
        "lst.reverse() #=>[99, 21, 33, 2, 5, 3, 2]\n",
        "print(lst[:])\n",
        "\n",
        "#數字位數反轉\n",
        "#V2\n",
        "nums=input(\"請輸入一整數做反轉: \") #輸入數字字串=>字串List=>nums\n",
        "print(nums[::-1]) #反轉\n",
        "\n",
        "#V3\n",
        "print(input(\"請輸入一整數做反轉: \")[::-1])\n"
      ],
      "metadata": {
        "colab": {
          "base_uri": "https://localhost:8080/"
        },
        "id": "_-MXBYOu8Zx2",
        "outputId": "193599a2-393b-4c8e-f79f-0c0d35ed251d"
      },
      "execution_count": null,
      "outputs": [
        {
          "output_type": "stream",
          "name": "stdout",
          "text": [
            "[99, 21, 33, 2, 5, 3, 2]\n",
            "請輸入一整數做反轉: 23456\n",
            "65432\n",
            "請輸入一整數做反轉: 31283\n",
            "38213\n"
          ]
        }
      ]
    },
    {
      "cell_type": "code",
      "source": [
        "#+, *, in/not in 運算\n",
        "lst1 = [2,3,5,9]\n",
        "lst2 = [33,99]\n",
        " \n",
        "#=>像 lst1.extend(lst2)=>合併後=>lst1，此例，單純合併=>顯示=>沒有修改任何List\n",
        "print(lst1 + lst2)  #=>[2, 3, 5, 9, 33, 99]\n",
        "print(lst1 + lst2*2) #=>[2, 3, 5, 9, 33, 99, 33, 99]\n",
        "\n",
        "print(3 in lst1) #3是否有在lst1中，True\n",
        "print(3 in lst2) #3是否有在lst2中，False"
      ],
      "metadata": {
        "colab": {
          "base_uri": "https://localhost:8080/"
        },
        "id": "oVUGygaVJomv",
        "outputId": "b7f00e24-f038-46d6-8b77-171ae5ce34c8"
      },
      "execution_count": null,
      "outputs": [
        {
          "output_type": "stream",
          "name": "stdout",
          "text": [
            "[2, 3, 5, 9, 33, 99]\n",
            "[2, 3, 5, 9, 33, 99, 33, 99]\n",
            "True\n",
            "False\n"
          ]
        }
      ]
    },
    {
      "cell_type": "code",
      "source": [
        "#追蹤串列元素，List, range\n",
        "print(range(0,6)) #range(0,6)=>[0,1,2,3,4,5]<=無法直接print\n",
        "print(\"range(0,6)=\", end=\" \")\n",
        "for i in range(0,6):\n",
        "  print(i, end=' ')\n",
        "print()\n",
        "#=================================\n",
        "print(\"=======================\")\n",
        "lst = [2,3,5,9,33,21,99] #lst串列\n",
        "#顯示串列內容\n",
        "#print(lst)\n",
        "for i in lst:\n",
        "  print(i, end=\" \")\n",
        "print()\n",
        "for i in range(0, len(lst), 3): #range()=>[0,3,6]\n",
        "  print(lst[i], end=\" \")"
      ],
      "metadata": {
        "colab": {
          "base_uri": "https://localhost:8080/"
        },
        "id": "BgLUhy1qLq4b",
        "outputId": "7326cbd7-f23a-4051-d968-4e3f67da9c74"
      },
      "execution_count": null,
      "outputs": [
        {
          "output_type": "stream",
          "name": "stdout",
          "text": [
            "range(0, 6)\n",
            "range(0,6)= 0 1 2 3 4 5 \n",
            "=======================\n",
            "2 3 5 9 33 21 99 \n",
            "2 9 99 "
          ]
        }
      ]
    },
    {
      "cell_type": "code",
      "source": [
        "#串列解析(List Comprehesion)\n",
        "lst = [x for x in range(5)] #=>range(5)=>[0,1,2,3,4]=>x串列\n",
        "print(lst)\n",
        "print([a for a in lst if (a%2)==0]) #產生偶數值的串列\n",
        "print([a for a in lst if a%2])  #產生奇數的串列\n"
      ],
      "metadata": {
        "colab": {
          "base_uri": "https://localhost:8080/"
        },
        "id": "VLoX8RAKOzeR",
        "outputId": "b15539d2-a191-48a0-9ca2-75792c2eac18"
      },
      "execution_count": null,
      "outputs": [
        {
          "output_type": "stream",
          "name": "stdout",
          "text": [
            "[0, 1, 2, 3, 4]\n",
            "[0, 2, 4]\n",
            "[1, 3]\n"
          ]
        }
      ]
    },
    {
      "cell_type": "code",
      "source": [
        "# 使用串列解析來處理質數\n",
        "n = int(input('請輸入一非1的正整數(質數?):')) #詢問的整數\n",
        "lst = [x for x in range(2, n) if (n%x)==0] #n=5,range(2,n)=>[2,3,4]=>x=>放入x串列之前=>if(n%x)==0(若餘數為0)(若x串列中的元素有可整除n)=>lst串列\n",
        "if len(lst)==0: #lst無元素，沒有可將n整除的元素\n",
        "  print(n, \"是質數\")\n",
        "else:  #有元素，有可將n整除的元素\n",
        "  print(n, \"不是質數\", end=\"可整除的整數(因數)有:\")\n",
        "  print(lst)"
      ],
      "metadata": {
        "colab": {
          "base_uri": "https://localhost:8080/"
        },
        "id": "sXYKjkfeO0xr",
        "outputId": "6b682ab7-5cc2-4f16-b77a-df40048ed13b"
      },
      "execution_count": null,
      "outputs": [
        {
          "output_type": "stream",
          "name": "stdout",
          "text": [
            "請輸入一非1的正整數(質數?):115\n",
            "115 不是質數可整除的整數(因數)有:[5, 23]\n"
          ]
        }
      ]
    },
    {
      "cell_type": "code",
      "source": [
        "#求得一字串，得到該字串有A的字元有幾個(使用[x for x in list if 條件])\n",
        "lst = [x for x in \"ABCDEACE\" if x=='A'] #將字串\"ABCDEACE\"有A的字(if x == 'A')=>符合條件=>x元素=>放入lst串列\n",
        "print(lst)\n",
        "print(\"此字串中有A的個數:\",len(lst)) #所產生的串列的長度"
      ],
      "metadata": {
        "colab": {
          "base_uri": "https://localhost:8080/"
        },
        "id": "VLz6LvcrXYE3",
        "outputId": "2979ab6f-eb35-413e-fc1e-b862f5d56e5d"
      },
      "execution_count": null,
      "outputs": [
        {
          "output_type": "stream",
          "name": "stdout",
          "text": [
            "['A', 'A']\n",
            "此字串中有A的個數: 2\n"
          ]
        }
      ]
    },
    {
      "cell_type": "markdown",
      "source": [
        "**06-03 數字排序**\n",
        "\n",
        "請撰寫一程式，要求使用者輸入十個數字並存放在串列中。接著由大到小的順序顯示最大的3個數字。"
      ],
      "metadata": {
        "id": "1Ek2HqOyZVqg"
      }
    },
    {
      "cell_type": "code",
      "source": [
        "# 數字排序，列出最大3數字\n",
        "# 輸入數字到List\n",
        "Lst = [] #數字串列\n",
        "print(\"請輸入10個整數=>\")\n",
        "for i in range(10): #輸入10個整數\n",
        "  Lst.append(eval(input(\"請輸入第\"+str(i+1)+\"個整數:\"))) #輸入並加入append Lst\n",
        "\n",
        "#開始排序\n",
        "Lst.sort()  #小到大\n",
        "Lst.reverse() #反轉，大到小\n",
        "\n",
        "#列出最大3數字\n",
        "# print(Lst[9], Lst[8], Lst[7]) #最後3個\n",
        "print(Lst[0], Lst[1], Lst[2]) #最前3個"
      ],
      "metadata": {
        "colab": {
          "base_uri": "https://localhost:8080/"
        },
        "id": "Ke_9dVOCZaI0",
        "outputId": "8e0ac365-aa7d-450c-84f3-29fd40901b6f"
      },
      "execution_count": null,
      "outputs": [
        {
          "output_type": "stream",
          "name": "stdout",
          "text": [
            "請輸入10個整數=>\n",
            "請輸入第1個整數:5\n",
            "請輸入第2個整數:4\n",
            "請輸入第3個整數:9\n",
            "請輸入第4個整數:3\n",
            "請輸入第5個整數:7\n",
            "請輸入第6個整數:1\n",
            "請輸入第7個整數:6\n",
            "請輸入第8個整數:8\n",
            "請輸入第9個整數:2\n",
            "請輸入第10個整數:10\n",
            "10 9 8\n"
          ]
        }
      ]
    },
    {
      "cell_type": "markdown",
      "source": [
        "**06-08 最大最小值索引**\n",
        "\n",
        "請以一程式，讓使用者建立一個 3*3的矩陣，其內容為從鍵盤輸入的整數(不重複)，接著輸出矩陣最大值與最小值的索引。\n",
        "\n",
        "例:>>>6,4,8,39,12,3,-3,49,33  =>index of the largest number = 49 is (2,1)  \n",
        "index of the smallest number -3 is:(2,0)\n",
        "\n",
        "Ans:"
      ],
      "metadata": {
        "id": "JhzuSuyDa7JA"
      }
    },
    {
      "cell_type": "code",
      "source": [
        "# 3*3矩陣的最大最小值索引\n",
        "size = 3 #矩陣大小\n",
        "mat = [] #矩陣串列\n",
        "#建立2維矩陣並輸入元素的數字\n",
        "for i in range(size):\n",
        "  mat.append([]) #建立二維矩陣[[],[],[]]\n",
        "  for j in range(size): #輸入數字\n",
        "    mat[i].append(eval(input('輸入不重複的整數:'))) #(i,j)=>(1,0)=>mat[[6,4,8],[39]]\n",
        "# 開始找出矩陣中的最大數，最小數及其位置(在串列中的索引)\n",
        "max_n = min_n = mat[0][0] #最大，最小值，預設為第一個元素[0][0]\n",
        "max_index = min_index = [0,0] #索引值List\n",
        "for i in range(size): #第一維\n",
        "  for j in range(size):  #第二維\n",
        "    if mat[i][j] > max_n: # 找到較大數\n",
        "      max_n = mat[i][j] #紀錄該元素\n",
        "      max_index = [i, j] #紀錄索引\n",
        "    elif mat[i][j] < min_n: # 找到較小數\n",
        "      min_n = mat[i][j] #紀錄該元素\n",
        "      min_index = [i, j] #紀錄索引\n",
        "#輸出最後結果\n",
        "print(\"index of the largest number = %d is (%d,%d)\"%(max_n, max_index[0],max_index[1]))\n",
        "print(\"index of the smallest number = %d is (%d,%d)\"%(min_n, min_index[0],min_index[1]))"
      ],
      "metadata": {
        "colab": {
          "base_uri": "https://localhost:8080/"
        },
        "id": "xe2ZKS2Ga_y1",
        "outputId": "36e97d44-81d1-4c62-acc0-277e5334264c"
      },
      "execution_count": null,
      "outputs": [
        {
          "output_type": "stream",
          "name": "stdout",
          "text": [
            "輸入不重複的整數:39\n",
            "輸入不重複的整數:12\n",
            "輸入不重複的整數:3\n",
            "輸入不重複的整數:-3\n",
            "輸入不重複的整數:49\n",
            "輸入不重複的整數:33\n",
            "輸入不重複的整數:6\n",
            "輸入不重複的整數:4\n",
            "輸入不重複的整數:8\n",
            "index of the largest number = 49 is (1,1)\n",
            "index of the smallest number = -3 is (1,0)\n"
          ]
        }
      ]
    },
    {
      "cell_type": "markdown",
      "source": [
        "**06-04 眾數**  \n",
        "請以一程式，讓使用者輸入十個整數做為樣本數，輸出眾數(樣本中出現最多次的數字)及其出現的次數。  \n",
        "例:>>34，18，22，32，18，29，30，38，42，18。 \n",
        "=>18，3\n"
      ],
      "metadata": {
        "id": "g5VPXeMuiClT"
      }
    },
    {
      "cell_type": "code",
      "source": [
        "# 求數值串列中的眾數\n",
        "size = 10 #串列個數\n",
        "sample = [] #數值樣本的串列\n",
        "count = [0]*size #複製[0]成為10個元素的串列=>count，每個sample中個別數值的次數的串列\n",
        "for i in range(size): #輸入數值到串列sample\n",
        "  num = eval(input())\n",
        "  sample.append(num) #加入到串列sample\n",
        "  count[sample.index(num)] += 1  #將此輸入的數值次數+1==>>count\n",
        "num_occu = max(count) #找出在count中最高的次數，眾數在sample中的次數\n",
        "theNo = sample[count.index(num_occu)] #眾數\n",
        "print(\"眾數為:\", theNo)\n",
        "print(\"出現的次數:\", num_occu)\n",
        "print(sample) # 顯示sample的List內容\n",
        "print(count) #顯示count的List內容"
      ],
      "metadata": {
        "colab": {
          "base_uri": "https://localhost:8080/"
        },
        "id": "T2DIpuPhiLFb",
        "outputId": "7b4f5430-a3fc-4ee9-d670-84412ac3b943"
      },
      "execution_count": null,
      "outputs": [
        {
          "output_type": "stream",
          "name": "stdout",
          "text": [
            "34\n",
            "18\n",
            "22\n",
            "32\n",
            "18\n",
            "29\n",
            "30\n",
            "38\n",
            "32\n",
            "18\n",
            "眾數為: 18\n",
            "出現的次數: 3\n",
            "[34, 18, 22, 32, 18, 29, 30, 38, 32, 18]\n",
            "[1, 3, 1, 2, 0, 1, 1, 1, 0, 0]\n"
          ]
        }
      ]
    },
    {
      "cell_type": "code",
      "source": [
        "#>>1 2 3 4 5 6 6 4 3 2\n",
        "#>>     \n",
        "#sample:[1,2,3,4,5,6,6,4,3,2]\n",
        "#count:[1,2,2,2,1,2,0,0,0,0]\n",
        "#num:2\n",
        "#sample.index(num):1\n",
        "#>>眾數為:2\n",
        "#>>出現的次數:2"
      ],
      "metadata": {
        "id": "xeaaAJpQ60qI"
      },
      "execution_count": null,
      "outputs": []
    },
    {
      "cell_type": "markdown",
      "source": [
        "## 數組(tuple)  \n",
        "組的結構與串列完全相同，不同處在於數組的元素個數與元素值皆不能改變，所以稱數組是「不能修改的串列」。  \n",
        "數組名稱 = (元素1, 元素2, …)\n",
        "\n",
        "tup = (\"魯夫\", \"索隆\", \"烏索普\")  \n",
        "tup[1] = \"香吉士\" #error\n"
      ],
      "metadata": {
        "id": "5rUdqw3dB_pc"
      }
    },
    {
      "cell_type": "code",
      "source": [
        "tup = (1,2,3,4,5,6) #建立數組(tuple)\n",
        "\n",
        "lst = list(tup) #數組(tup)=>轉換成List=>lst=>[1,2,3,4,5,6]\n",
        "print(lst.pop(3)) #4 => lst=[1,2,3,5,6]\n",
        "\n",
        "tup = tuple(lst) #List轉成tuple=> tup=(1,2,3,5,6)\n",
        "print(tup)"
      ],
      "metadata": {
        "colab": {
          "base_uri": "https://localhost:8080/"
        },
        "id": "sa7K1UX1E1c5",
        "outputId": "60ca716f-b5c1-4995-9012-823d9bc12b9b"
      },
      "execution_count": null,
      "outputs": [
        {
          "output_type": "stream",
          "name": "stdout",
          "text": [
            "4\n",
            "(1, 2, 3, 5, 6)\n"
          ]
        }
      ]
    },
    {
      "cell_type": "markdown",
      "source": [
        "**07-01 串列數組轉換**  \n",
        "\n",
        "請撰寫一程式，輸入數個整數並儲存至串列中，以輸入-9999為結束點（串列中不包含-9999），再將此串列轉換成數組，  \n",
        "最後顯示該數組以及其長度（Length）、最大值（Max）、最小值（Min）、總和（Sum）。"
      ],
      "metadata": {
        "id": "3PU1UJrpF09n"
      }
    },
    {
      "cell_type": "code",
      "source": [
        "nums = eval(input(\"輸入一整數(-9999結束輸入):\"))\n",
        "numsLst = [] #存放整數的串列\n",
        "while nums != -9999: #-9999結束輸入\n",
        "  numsLst.append(nums) #加入List中\n",
        "  nums = eval(input(\"輸入一整數(-9999結束輸入):\"))\n",
        "#結束輸入=>建立List結束\n",
        "numstup = tuple(numsLst) #List轉換成Tuple=>numstup\n",
        "#所有tuple中的結論輸出\n",
        "print(\"目前的數組:\", numstup)\n",
        "print(\"數組中長度(元素數):\", len(numstup))\n",
        "print(\"數組中最大數:\", max(numstup))\n",
        "print(\"數組中最小數:\", min(numstup))  \n",
        "print(\"數組中總和:\", sum(numstup))  "
      ],
      "metadata": {
        "colab": {
          "base_uri": "https://localhost:8080/"
        },
        "id": "fQ-yO_JGGWNg",
        "outputId": "80ae46d9-4d54-4f87-d12f-cc4f8d2a4d14"
      },
      "execution_count": null,
      "outputs": [
        {
          "output_type": "stream",
          "name": "stdout",
          "text": [
            "輸入一整數(-9999結束輸入):5\n",
            "輸入一整數(-9999結束輸入):6\n",
            "輸入一整數(-9999結束輸入):7\n",
            "輸入一整數(-9999結束輸入):3\n",
            "輸入一整數(-9999結束輸入):55\n",
            "輸入一整數(-9999結束輸入):42\n",
            "輸入一整數(-9999結束輸入):-6\n",
            "輸入一整數(-9999結束輸入):-9999\n",
            "目前的數組: (5, 6, 7, 3, 55, 42, -6)\n",
            "數組中長度(元素數): 7\n",
            "數組中最大數: 55\n",
            "數組中最小數: -6\n",
            "數組中總和: 112\n"
          ]
        }
      ]
    },
    {
      "cell_type": "code",
      "source": [
        "#作業練習\n",
        "#07-02 數組合併排序\n",
        "#請以一程式，輸入並建立兩個數組，各以-9999為結束點(數組中不包含-9999)，將此兩數組合併並從小排序之，顯示排序前的數組和排序後的串列\n",
        "#例:\n",
        "#>>>create tuple1:9, 0, -1, 3, 8, -9999\n",
        "#>>>create tuple2:28, 16, 39, 56, 78, 88, -9999\n",
        "#=>\n",
        "#Combined tuple before sorting: (9, 0, -1, 3, 8, 28, 16, 39, 56, 78, 88)\n",
        "#combined list after sorting: [-1, 0, 3, 8, 9, 16, 28, 39, 56, 78, 88]"
      ],
      "metadata": {
        "id": "-pD5lZp-KNqC"
      },
      "execution_count": null,
      "outputs": []
    },
    {
      "cell_type": "markdown",
      "source": [
        "##字典(Dictionary) 架構  \n",
        "**字典的結構也與串列類似，其元素是以「鍵 - 值」對方式儲存，這樣就可使用「鍵」來取得「值」。**\n",
        "\n",
        "字典是將元素置於一對大括號「{}」中，其語法為：  \n",
        "> 字典名稱 = { 鍵1:值1, 鍵2:值2, … }"
      ],
      "metadata": {
        "id": "Yk3b1m5RNGo5"
      }
    },
    {
      "cell_type": "code",
      "source": [
        "#字典範例\n",
        "atk = {\"BBB\":50, \"AAA\":90, \"CCC\":70} #字典atk的建立\n",
        "print(atk['BBB']) #輸出Key:BBB的Value:?\n",
        "print(atk)\n",
        "atk[\"DDD\"]= 65 #新增\n",
        "print(atk)\n",
        "atk[\"CCC\"]=80 #修改\n",
        "print(atk)\n",
        "del atk[\"AAA\"]\n",
        "print(\"1\",atk)\n",
        "atk.clear() #清出所有字典atk的元素\n",
        "print(\"2\",atk) #顯示空的字典atk\n",
        "del atk #刪除字典atk\n",
        "#print(\"3\",atk) #ERROR 沒有atk"
      ],
      "metadata": {
        "colab": {
          "base_uri": "https://localhost:8080/"
        },
        "id": "effo56HsNQN7",
        "outputId": "12999773-f92c-4f4c-877e-1827a7941f7b"
      },
      "execution_count": null,
      "outputs": [
        {
          "output_type": "stream",
          "name": "stdout",
          "text": [
            "50\n",
            "{'BBB': 50, 'AAA': 90, 'CCC': 70}\n",
            "{'BBB': 50, 'AAA': 90, 'CCC': 70, 'DDD': 65}\n",
            "{'BBB': 50, 'AAA': 90, 'CCC': 80, 'DDD': 65}\n",
            "1 {'BBB': 50, 'CCC': 80, 'DDD': 65}\n",
            "2 {}\n"
          ]
        }
      ]
    },
    {
      "cell_type": "markdown",
      "source": [
        "**07-09 詞典排序**\n",
        "\n",
        "請撰寫一程式，輸入一顏色詞典color_dict（以輸入鍵值”end”作為輸入結束點，詞典中將不包含鍵值”end”），再根據key值的字母由小到大排序並輸出。"
      ],
      "metadata": {
        "id": "1quQ5FzuVK6v"
      }
    },
    {
      "cell_type": "code",
      "source": [
        "#詞典排序\n",
        "color_dict = {} #顏色字典，空的字典\n",
        "while True: #輸入顏色字典的元素，Key輸入\"end\"結束輸入\n",
        "  ckey = input(\"請輸入顏色Key(end為結束):\")\n",
        "  if ckey == \"end\": #將結束輸入\n",
        "    break #中斷 while\n",
        "  cvalue = input(\"請輸入顏色Value:\")\n",
        "  color_dict[ckey] = cvalue #新增一筆顏色的元素[key:value]\n",
        "\n",
        "#結束color_dict輸入\n",
        "cDict = sorted(color_dict) #將顏色字典的Key排序=>cDict[]\n",
        "print(\"cDict:\", cDict) #將已排序的dict=>[]=>整個串列\n",
        "#輸出整個已排序的顏色字典cDict\n",
        "print(\"輸出已排序的顏色字典:\")\n",
        "for oneC in cDict:\n",
        "  print(\"%s:%s\"%(oneC, color_dict[oneC]))"
      ],
      "metadata": {
        "colab": {
          "base_uri": "https://localhost:8080/"
        },
        "id": "8a4P500xVeFX",
        "outputId": "10282050-243e-40af-f9a5-54ad8f4eaf44"
      },
      "execution_count": null,
      "outputs": [
        {
          "output_type": "stream",
          "name": "stdout",
          "text": [
            "請輸入顏色Key(end為結束):red\n",
            "請輸入顏色Value:#F00\n",
            "請輸入顏色Key(end為結束):blue\n",
            "請輸入顏色Value:#00F\n",
            "請輸入顏色Key(end為結束):green\n",
            "請輸入顏色Value:#0F0\n",
            "請輸入顏色Key(end為結束):white\n",
            "請輸入顏色Value:#FFF\n",
            "請輸入顏色Key(end為結束):end\n",
            "cDict: ['blue', 'green', 'red', 'white']\n",
            "輸出已排序的顏色字典:\n",
            "blue:#00F\n",
            "green:#0F0\n",
            "red:#F00\n",
            "white:#FFF\n"
          ]
        }
      ]
    },
    {
      "cell_type": "markdown",
      "source": [
        "**07-08 詞典合併**  \n",
        "請以一程式，輸入兩個字典(以輸入\"end\"作為輸入結束點)，將此兩個字典合併，並根據key值字母由小到大排序輸出，如有重複key值，後輸入的key值將覆蓋前一key值。\n",
        "例:\n",
        "> Create dict1:Key: a，Value: apple，Key: b，Value: banana，Key: d，Value: durian，Key: end  \n",
        "> Create dict2:Key: c，Value: cat，Key: e，Value: elephant，Key: end  \n",
        "=>\n",
        "a: apple  \n",
        "b: banana  \n",
        "c: cat  \n",
        "d: durian  \n",
        "e: elephant  \n",
        "Ans:"
      ],
      "metadata": {
        "id": "a7gDHd5ic6OZ"
      }
    },
    {
      "cell_type": "code",
      "source": [
        "#輸入兩個字典dict1, dict2\n",
        "print(\"建立字典1:\")\n",
        "dict1 = {}\n",
        "while True:\n",
        "  dkey = input(\"請輸入Key(end為結束):\")\n",
        "  if dkey == \"end\": #將結束輸入\n",
        "    break #中斷 while\n",
        "  dvalue = input(\"請輸入Value:\")\n",
        "  dict1[dkey] = dvalue #新增一筆元素[key:value]\n",
        "\n",
        "print(\"建立字典2:\")\n",
        "dict2 = {}\n",
        "while True:\n",
        "  dkey = input(\"請輸入Key(end為結束):\")\n",
        "  if dkey == \"end\": #將結束輸入\n",
        "    break #中斷 while\n",
        "  dvalue = input(\"請輸入Value:\")\n",
        "  dict2[dkey] = dvalue #新增一筆元素[key:value]\n",
        "#合併兩個字典，將key做排序，輸出整體的已合併，已排序的字典\n",
        "merge_dict = dict1.copy() #複製字典dict1=>merge_dict\n",
        "merge_dict.update(dict2) #以更新方式update，來合併dict1,dict2=>merge_dict\n",
        "mSortedDict = sorted(merge_dict) #將merge_dict的key做排序=>mSortedDict[]\n",
        "print(\"輸出已排序的合併兩字典:\")\n",
        "for oneD in mSortedDict:\n",
        "  print(\"%s:%s\"%(oneD, merge_dict[oneD]))"
      ],
      "metadata": {
        "colab": {
          "base_uri": "https://localhost:8080/"
        },
        "id": "jUsUL1eAdWAs",
        "outputId": "5b23a722-9ce6-42d7-faa6-34b5bb9deddb"
      },
      "execution_count": null,
      "outputs": [
        {
          "output_type": "stream",
          "name": "stdout",
          "text": [
            "建立字典1:\n",
            "請輸入Key(end為結束):a\n",
            "請輸入Value:apple\n",
            "請輸入Key(end為結束):b\n",
            "請輸入Value:banana\n",
            "請輸入Key(end為結束):d\n",
            "請輸入Value:durian\n",
            "請輸入Key(end為結束):end\n",
            "建立字典2:\n",
            "請輸入Key(end為結束):d\n",
            "請輸入Value:dog\n",
            "請輸入Key(end為結束):c\n",
            "請輸入Value:cat\n",
            "請輸入Key(end為結束):e\n",
            "請輸入Value:elephant\n",
            "請輸入Key(end為結束):end\n",
            "輸出已排序的合併兩字典:\n",
            "a:apple\n",
            "b:banana\n",
            "c:cat\n",
            "d:dog\n",
            "e:elephant\n"
          ]
        }
      ]
    },
    {
      "cell_type": "markdown",
      "source": [
        "**07-10 詞典搜尋**  \n",
        "請以一程式，為一字典輸入資料(以輸入\"end\"作為輸入結束點)，再輸入一鍵值並檢視此鍵值是否存在於該字典中。\n",
        "例:  \n",
        " >Key: 123-4567-89，Value: Jennifer，Key: 987-6543-21，Value: Tommy，Key: 2468246-82，Value: Kay，Key: end  \n",
        " \n",
        " >Search key: 2468246-82 =>True"
      ],
      "metadata": {
        "id": "cOD3qn7qhyZk"
      }
    },
    {
      "cell_type": "code",
      "source": [
        "#詞典搜尋\n",
        "#輸入字典mydict\n",
        "print(\"建立字典:\")\n",
        "mydict = {}\n",
        "while True:\n",
        "  dkey = input(\"請輸入Key(end為結束):\")\n",
        "  if dkey == \"end\": #將結束輸入\n",
        "    break #中斷 while\n",
        "  dvalue = input(\"請輸入Value:\")\n",
        "  mydict[dkey] = dvalue #新增一筆元素[key:value]\n",
        "\n",
        "#輸入搜尋key，搜尋\n",
        "searchKey = input(\"請輸入欲搜尋的key:\")\n",
        "print(\"您所蒐尋的key:%s:%s\"%(searchKey, (searchKey in mydict)))"
      ],
      "metadata": {
        "colab": {
          "base_uri": "https://localhost:8080/"
        },
        "id": "Tcfgxy8IiIWQ",
        "outputId": "a1d83a21-513f-4289-e0b2-89835b3689fd"
      },
      "execution_count": null,
      "outputs": [
        {
          "output_type": "stream",
          "name": "stdout",
          "text": [
            "建立字典:\n",
            "請輸入Key(end為結束):123-4567-89\n",
            "請輸入Value:Jennifer\n",
            "請輸入Key(end為結束):987-6543-21\n",
            "請輸入Value:Tommy\n",
            "請輸入Key(end為結束):end\n",
            "請輸入欲搜尋的key:987-6543-21\n",
            "您所蒐尋的key:987-6543-21:True\n"
          ]
        }
      ]
    }
  ]
}