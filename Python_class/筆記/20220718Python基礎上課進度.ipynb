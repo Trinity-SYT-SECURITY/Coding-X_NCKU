{
  "nbformat": 4,
  "nbformat_minor": 0,
  "metadata": {
    "colab": {
      "name": "20220718Python基礎上課進度.ipynb",
      "provenance": [],
      "collapsed_sections": []
    },
    "kernelspec": {
      "name": "python3",
      "display_name": "Python 3"
    },
    "language_info": {
      "name": "python"
    }
  },
  "cells": [
    {
      "cell_type": "markdown",
      "source": [
        "## **2022/07/18 Python的基礎 的上課進度 **"
      ],
      "metadata": {
        "id": "jnKghJbeY9-n"
      }
    },
    {
      "cell_type": "markdown",
      "source": [
        "**02-07 折扣方案**  \n",
        "請使用選擇敘述撰寫一程式，要求使用者輸入購物金額，購物金額需大於8,000（含）以上，並顯示折扣優惠後的實付金額。購物金額折扣方案如下表所示，顯示購買金額，實付金額，+折扣方案：  \n",
        "\n",
        "> 8,000（含）以上    9.5折  \n",
        "> 18,000（含）以上    9折  \n",
        "> 28,000（含）以上    8折  \n",
        "> 38,000（含）以上    7折"
      ],
      "metadata": {
        "id": "fT0EXDnRphBG"
      }
    },
    {
      "cell_type": "code",
      "execution_count": null,
      "metadata": {
        "colab": {
          "base_uri": "https://localhost:8080/"
        },
        "id": "ENgpYBwMY7GH",
        "outputId": "ec8e312e-5a84-408c-a055-0b08d43cd98b"
      },
      "outputs": [
        {
          "output_type": "stream",
          "name": "stdout",
          "text": [
            "請輸入您的購買金額:20000\n",
            "您的購買金額:20000，其應付金額:18000,折扣為:打九折\n"
          ]
        }
      ],
      "source": [
        "#02-07 折扣方案\n",
        "buy = eval(input(\"請輸入您的購買金額:\")) #購買金額\n",
        "discount = \"不打折\" #折扣規則(預設)\n",
        "pay = 0 #實付金額\n",
        "#判斷金額，並給折扣，及實付金額\n",
        "if buy >= 38000: \n",
        "  pay = buy * 0.7 \n",
        "  discount = \"打七折\"\n",
        "elif buy >= 28000:\n",
        "  pay = buy * 0.8 \n",
        "  discount = \"打八折\"\n",
        "elif buy >= 18000:\n",
        "  pay = buy * 0.9 \n",
        "  discount = \"打九折\"\n",
        "elif buy >= 8000:\n",
        "  pay = buy * 0.95 \n",
        "  discount = \"打九五折\"\n",
        "else: #以上皆非\n",
        "  pay = buy #不打折\n",
        "  discount = \"不打折\"\n",
        "#輸出結果\n",
        "print(\"您的購買金額:%d，其應付金額:%d,折扣為:%s\" %(buy, pay, discount))"
      ]
    },
    {
      "cell_type": "markdown",
      "source": [
        "## for 可數迴圈\n",
        "**for語法:**  \n",
        ">>for 變數 in 串列：\n",
        ">>>    程式區塊"
      ],
      "metadata": {
        "id": "dNgskh0b7rHL"
      }
    },
    {
      "cell_type": "code",
      "source": [
        "#1-10的列表並加總\n",
        "totali = 0 #總和\n",
        "for i in range(1,11):\n",
        "  print(i) #目前的i值\n",
        "  totali += i #totali = totali + i =>將i值加入到總和\n",
        "print(\"上述總和:\", totali)  #輸出總和"
      ],
      "metadata": {
        "colab": {
          "base_uri": "https://localhost:8080/"
        },
        "id": "POoZBEKd98cN",
        "outputId": "f69a2241-1eae-4d12-d66f-fdf92a2a71d7"
      },
      "execution_count": null,
      "outputs": [
        {
          "output_type": "stream",
          "name": "stdout",
          "text": [
            "1\n",
            "2\n",
            "3\n",
            "4\n",
            "5\n",
            "6\n",
            "7\n",
            "8\n",
            "9\n",
            "10\n",
            "上述總和: 55\n"
          ]
        }
      ]
    },
    {
      "cell_type": "code",
      "source": [
        "#2+4+6+..+20的總和\n",
        "totali = 0  #加總的總和\n",
        "#列表 2,4,6,8,..20\n",
        "for i in range(2,21,2):\n",
        "  print(i, end=\", \")\n",
        "  totali += i\n",
        "print()\n",
        "print(\"上述加總:\", totali)"
      ],
      "metadata": {
        "colab": {
          "base_uri": "https://localhost:8080/"
        },
        "id": "XEONZwFb-Xx_",
        "outputId": "5eaa33eb-9872-4f34-bc3f-4d21260740fb"
      },
      "execution_count": null,
      "outputs": [
        {
          "output_type": "stream",
          "name": "stdout",
          "text": [
            "2, 4, 6, 8, 10, 12, 14, 16, 18, 20, \n",
            "上述加總: 110\n"
          ]
        }
      ]
    },
    {
      "cell_type": "markdown",
      "source": [
        "**03-01 迴圈整數連加**  \n",
        "請使用迴圈敘述撰寫一程式，讓使用者輸入兩個正整數a、b（a < b），利用迴圈計算從a開始連加到b的總和。  \n",
        "例如：輸入a=1、b=100，則輸出結果為5050（1 + 2 + … + 100 = 5050）。\n",
        "\n",
        "Ans:"
      ],
      "metadata": {
        "id": "SUzt1ILhAoWJ"
      }
    },
    {
      "cell_type": "code",
      "source": [
        "numa = eval(input(\"a=\"))  #a，初值\n",
        "numb = eval(input(\"b=\"))  #b, 終值\n",
        "totalj = 0 #加總的總和\n",
        "for j in range(numa, numb+1): #加總迴圈\n",
        "  if j != numb: #當j尚未到最後的整數\n",
        "    print(j, end=\"+\") #顯示目前的j+\n",
        "  else: #j== numb\n",
        "    print(j, end=\"=\") #顯示目前的j+\n",
        "  if (j % 20) == 0: #每20個j成列一行\n",
        "    print()\n",
        "  totalj += j #累加\n",
        "#print(\"%d+...+%d=%d\" %(numa, numb, totalj)\n",
        "#print(\"%d+%d+...+%d=%d\"%(numa,(numa+1), numb, totalj))\n",
        "print(totalj)"
      ],
      "metadata": {
        "colab": {
          "base_uri": "https://localhost:8080/"
        },
        "id": "TIPM0J6fA1B2",
        "outputId": "00cdcc2e-29e2-4fc3-9eba-0d445a3abe5e"
      },
      "execution_count": null,
      "outputs": [
        {
          "output_type": "stream",
          "name": "stdout",
          "text": [
            "a=1\n",
            "b=100\n",
            "1+2+3+4+5+6+7+8+9+10+11+12+13+14+15+16+17+18+19+20+\n",
            "21+22+23+24+25+26+27+28+29+30+31+32+33+34+35+36+37+38+39+40+\n",
            "41+42+43+44+45+46+47+48+49+50+51+52+53+54+55+56+57+58+59+60+\n",
            "61+62+63+64+65+66+67+68+69+70+71+72+73+74+75+76+77+78+79+80+\n",
            "81+82+83+84+85+86+87+88+89+90+91+92+93+94+95+96+97+98+99+100=\n",
            "5050\n"
          ]
        }
      ]
    },
    {
      "cell_type": "markdown",
      "source": [
        "**03-04 迴圈倍數總和**  \n",
        "請以迴圈敘述寫一程式，讓使用者輸入一個正整數a，利用迴圈計算從1到a之間，所有5之倍數數字列表及總和  \n",
        "ANS:"
      ],
      "metadata": {
        "id": "k8Zsxa9CKr0a"
      }
    },
    {
      "cell_type": "code",
      "source": [
        "#03-04 迴圈倍數總和\n",
        "numa = eval(input(\"請輸入一整數a(迴圈的終值):\"))\n",
        "totala = 0 #總和\n",
        "print(\"1到%d的5的倍數有\"%(numa),end=\":\") #開頭的顯示\n",
        "#for i in range(1, numa+1): #1,2,...numa\n",
        "#  if i % 5 == 0: #當前i值可被5整除=5的倍數\n",
        "for i in range(5, numa+1, 5): #5,10,...最後5的倍數\n",
        "  print(i, end=\" \")\n",
        "  totala += i #加入到總和\n",
        "print(\"的總和為:%d\"%(totala))"
      ],
      "metadata": {
        "colab": {
          "base_uri": "https://localhost:8080/"
        },
        "id": "Bxh--mUoK1K7",
        "outputId": "c6aaadaa-7696-4338-d8ff-94aa0737a827"
      },
      "execution_count": null,
      "outputs": [
        {
          "output_type": "stream",
          "name": "stdout",
          "text": [
            "請輸入一整數a(迴圈的終值):34\n",
            "1到34的5的倍數有:5 10 15 20 25 30 的總和為:105\n"
          ]
        }
      ]
    },
    {
      "cell_type": "markdown",
      "source": [
        "###巢狀迴圈\n",
        ">迴圈內含迴圈，是為巢狀迴圈(nested loop)"
      ],
      "metadata": {
        "id": "3TDIpdenQquM"
      }
    },
    {
      "cell_type": "code",
      "source": [
        "#基本的巢狀迴圈(nested loop)\n",
        "print(\"i * j = i*j\")\n",
        "for i in range(2): #i=[0,1]\n",
        "  for j in range(3): #j=[0,1,2]\n",
        "    print(i, \"*\", j , \"=\", i*j) #輸出當前的i, j, i*j結果"
      ],
      "metadata": {
        "colab": {
          "base_uri": "https://localhost:8080/"
        },
        "id": "LSy_4WmKTqz6",
        "outputId": "12986cf8-9904-4477-9c92-66a0d588b473"
      },
      "execution_count": null,
      "outputs": [
        {
          "output_type": "stream",
          "name": "stdout",
          "text": [
            "i * j = i*j\n",
            "0 * 0 = 0\n",
            "0 * 1 = 0\n",
            "0 * 2 = 0\n",
            "1 * 0 = 0\n",
            "1 * 1 = 1\n",
            "1 * 2 = 2\n"
          ]
        }
      ]
    },
    {
      "cell_type": "code",
      "source": [
        "#九九乘法表(巢狀迴圈)\n",
        "print(\"九九乘法表列表:\")\n",
        "for i in range(1,10): #被乘數 [1,2..9]\n",
        "  for j in range(1,10): #乘數 [1,2..9]\n",
        "    print(i, \"*\", j , \"=\", i*j, end=\"\\t\") #輸出當前的i, j, i*j結果\n",
        "  print() #換行"
      ],
      "metadata": {
        "colab": {
          "base_uri": "https://localhost:8080/"
        },
        "id": "-dYe53I4V7z2",
        "outputId": "ee1506c6-1a80-44e0-8449-f9e233f40d65"
      },
      "execution_count": null,
      "outputs": [
        {
          "output_type": "stream",
          "name": "stdout",
          "text": [
            "九九乘法表列表:\n",
            "1 * 1 = 1\t1 * 2 = 2\t1 * 3 = 3\t1 * 4 = 4\t1 * 5 = 5\t1 * 6 = 6\t1 * 7 = 7\t1 * 8 = 8\t1 * 9 = 9\t\n",
            "2 * 1 = 2\t2 * 2 = 4\t2 * 3 = 6\t2 * 4 = 8\t2 * 5 = 10\t2 * 6 = 12\t2 * 7 = 14\t2 * 8 = 16\t2 * 9 = 18\t\n",
            "3 * 1 = 3\t3 * 2 = 6\t3 * 3 = 9\t3 * 4 = 12\t3 * 5 = 15\t3 * 6 = 18\t3 * 7 = 21\t3 * 8 = 24\t3 * 9 = 27\t\n",
            "4 * 1 = 4\t4 * 2 = 8\t4 * 3 = 12\t4 * 4 = 16\t4 * 5 = 20\t4 * 6 = 24\t4 * 7 = 28\t4 * 8 = 32\t4 * 9 = 36\t\n",
            "5 * 1 = 5\t5 * 2 = 10\t5 * 3 = 15\t5 * 4 = 20\t5 * 5 = 25\t5 * 6 = 30\t5 * 7 = 35\t5 * 8 = 40\t5 * 9 = 45\t\n",
            "6 * 1 = 6\t6 * 2 = 12\t6 * 3 = 18\t6 * 4 = 24\t6 * 5 = 30\t6 * 6 = 36\t6 * 7 = 42\t6 * 8 = 48\t6 * 9 = 54\t\n",
            "7 * 1 = 7\t7 * 2 = 14\t7 * 3 = 21\t7 * 4 = 28\t7 * 5 = 35\t7 * 6 = 42\t7 * 7 = 49\t7 * 8 = 56\t7 * 9 = 63\t\n",
            "8 * 1 = 8\t8 * 2 = 16\t8 * 3 = 24\t8 * 4 = 32\t8 * 5 = 40\t8 * 6 = 48\t8 * 7 = 56\t8 * 8 = 64\t8 * 9 = 72\t\n",
            "9 * 1 = 9\t9 * 2 = 18\t9 * 3 = 27\t9 * 4 = 36\t9 * 5 = 45\t9 * 6 = 54\t9 * 7 = 63\t9 * 8 = 72\t9 * 9 = 81\t\n"
          ]
        }
      ]
    },
    {
      "cell_type": "code",
      "source": [
        "#繪製直角三角形\n",
        "#輸入n為直角三角形的層次\n",
        "#*  i=1, j=1\n",
        "#** i=2, j=1,2\n",
        "#*** i=3, j=1,2,3\n",
        "#**** i=4, j=1,2,3,4\n",
        "numn = eval(input(\"請輸入將顯示的直角三角形的層次(n):\"))\n",
        "#巢狀迴圈開始，顯示直角三角形\n",
        "for i in range(1, numn+1): #外圈，一次一層\n",
        "  for j in range(1, i+1): #內圈，*的顯示，*的數量=當前i\n",
        "    print(\"*\", end=\"\")\n",
        "  print() #換行，下一層，next i"
      ],
      "metadata": {
        "colab": {
          "base_uri": "https://localhost:8080/"
        },
        "id": "6cvr5CVNXUUq",
        "outputId": "e6707734-ae63-493e-8e77-441fafb01a8d"
      },
      "execution_count": null,
      "outputs": [
        {
          "output_type": "stream",
          "name": "stdout",
          "text": [
            "請輸入將顯示的直角三角形的層次(n):5\n",
            "*\n",
            "**\n",
            "***\n",
            "****\n",
            "*****\n"
          ]
        }
      ]
    },
    {
      "cell_type": "markdown",
      "source": [
        "**04-10 繪製等腰三角形  **  \n",
        "**請以一程式，利用雙層for迴圈，依照使用者輸入的n，劃出對應的等腰三角形。**(每列最後一個*右方無空白)  \n",
        "例:>>>3\n",
        "=>\n",
        "\n",
        "  ＊  \n",
        " ＊＊＊  \n",
        "＊＊＊＊＊  \n",
        "Ans:"
      ],
      "metadata": {
        "id": "kHsGH2TLZnkX"
      }
    },
    {
      "cell_type": "code",
      "source": [
        "#4-10 繪製等腰三角形 \n",
        "#  ＊  i=1(層次),j=1(＊)(i*2-1),k=2(空白)(n-i)\n",
        "# ＊＊＊  i=2, j=3, k=1\n",
        "#＊＊＊＊＊ i=3, j=5 k=0\n",
        "numn = eval(input(\"請輸入等腰三角形的層次數:\"))\n",
        "for i in range(1, numn+1): #一層一行 #外層\n",
        "  for k in range(1, (numn-i)+1): #內層，空白的數量\n",
        "    print(\"　\", end=\"\")\n",
        "  for j in range(1, (i*2-1)+1):\n",
        "    print(\"＊\", end=\"\") #內層，＊的數量\n",
        "  print() #換行"
      ],
      "metadata": {
        "colab": {
          "base_uri": "https://localhost:8080/"
        },
        "id": "15KwzGbqaNJ-",
        "outputId": "c9f2fb59-de3f-4a2a-8b86-b3948752644b"
      },
      "execution_count": null,
      "outputs": [
        {
          "output_type": "stream",
          "name": "stdout",
          "text": [
            "請輸入等腰三角形的層次數:5\n",
            "　　　　＊\n",
            "　　　＊＊＊\n",
            "　　＊＊＊＊＊\n",
            "　＊＊＊＊＊＊＊\n",
            "＊＊＊＊＊＊＊＊＊\n"
          ]
        }
      ]
    },
    {
      "cell_type": "markdown",
      "source": [
        "###break 命令\n",
        "**迴圈執行時如果要中途結束迴圈執行，可使用 break 命令強制離開**"
      ],
      "metadata": {
        "id": "4ACEjTdN21BS"
      }
    },
    {
      "cell_type": "code",
      "source": [
        "#break命令例\n",
        "for i in range(1, 11): #[1, 2, 3,...,10]<=原本i 的過程\n",
        "  if i == 6: \n",
        "    break #只要迴圈i =6將中途結束=>1-5的輸出而已\n",
        "  else:\n",
        "    print(i)"
      ],
      "metadata": {
        "id": "vpI5nGd0268I"
      },
      "execution_count": null,
      "outputs": []
    },
    {
      "cell_type": "markdown",
      "source": [
        "##continue 命令\n",
        "**continue 命令則是在迴圈執行中途停住不往下執行，而跳到迴圈起始處繼續執行**"
      ],
      "metadata": {
        "id": "Ju_SaizQ4j7F"
      }
    },
    {
      "cell_type": "code",
      "source": [
        "for i in range(1, 11): #[1, 2, 3,...,10]<=原本i 的過程\n",
        "  if i == 6: \n",
        "    continue #只要迴圈i =6將跳過，7後繼續=>1-5，7-10的輸出而已\n",
        "  else:\n",
        "    print(i)"
      ],
      "metadata": {
        "id": "XgjX596L4ovh"
      },
      "execution_count": null,
      "outputs": []
    },
    {
      "cell_type": "code",
      "source": [
        "#列出1-50間所有偶數的整數，使用continue處理?\n",
        "for i in range(1,51): #1-50\n",
        "  #if (i%2 == 0): #當i為偶數，執行輸出\n",
        "  if (i%2 != 0): #當i 不為偶數，跳過此i值\n",
        "    continue\n",
        "  else: #偶數才輸出\n",
        "    print(i, end=\" \")"
      ],
      "metadata": {
        "colab": {
          "base_uri": "https://localhost:8080/"
        },
        "id": "piiKXVbR5cAE",
        "outputId": "033661e9-5304-4dba-a18c-2aa15d0359e6"
      },
      "execution_count": null,
      "outputs": [
        {
          "output_type": "stream",
          "name": "stdout",
          "text": [
            "2 4 6 8 10 12 14 16 18 20 22 24 26 28 30 32 34 36 38 40 42 44 46 48 50 "
          ]
        }
      ]
    },
    {
      "cell_type": "markdown",
      "source": [
        "##for … else … 迴圈##\n",
        "**for … else … 迴圈是 Python 的設計，語法如下：**\n",
        "\n",
        "for 變數 in 串列:\n",
        "> 程式區塊一  \n",
        "    > if (條件式):  \n",
        "      >> 程式區塊二  \n",
        "      >> break  \n",
        "\n",
        "else:\n",
        "\n",
        "  >> 程式區塊三"
      ],
      "metadata": {
        "id": "nzoV6l4N74jM"
      }
    },
    {
      "cell_type": "markdown",
      "source": [
        "## for_else 範例\n",
        "\n",
        "**利用 for … else … 迴圈來判斷質數**\n",
        "輸入：一個大於 1 的整數 n\n",
        "輸出：\n",
        "\n",
        "如果 n 是質數  “n 是質數”\n",
        "\n",
        "如果 n 不是質數  “n 不是質數”"
      ],
      "metadata": {
        "id": "gfnaV6QZ80dK"
      }
    },
    {
      "cell_type": "code",
      "source": [
        "# for_else範例\n",
        "# 輸入一整數來判斷是否為質數\n",
        "n = int(input('請輸入一非1的正整數:'))\n",
        "# 使用迴圈來判斷是否為質數\n",
        "for i in range(2, n): #2...(n-1)\n",
        "  if (n%i)==0: #當前i值可將n整除=>n不是質數\n",
        "    print(n, \"不是質數!!可被\", i, \"整除!!\")\n",
        "    break\n",
        "else:\n",
        "  print(n,\"是質數!!\")  #迴圈有確實執行完成，來證明n為質數"
      ],
      "metadata": {
        "colab": {
          "base_uri": "https://localhost:8080/"
        },
        "id": "cni-Px8S9t3S",
        "outputId": "fceb3bdb-8957-4eb7-dc71-51366d3faedc"
      },
      "execution_count": null,
      "outputs": [
        {
          "output_type": "stream",
          "name": "stdout",
          "text": [
            "請輸入一非1的正整數:14\n",
            "14 不是質數!!可被 2 整除!!\n"
          ]
        }
      ]
    },
    {
      "cell_type": "markdown",
      "source": [
        "##  WHILE迴圈"
      ],
      "metadata": {
        "id": "erL-d8PHA7GP"
      }
    },
    {
      "cell_type": "markdown",
      "source": [
        "**while 迴圈通常用於沒有固定次數的情況，基本語法結構為：**  \n",
        "while (條件式):  \n",
        "   > 程式區塊"
      ],
      "metadata": {
        "id": "SOVmiq_SEJjU"
      }
    },
    {
      "cell_type": "code",
      "source": [
        "#while範例\n",
        "n = 5 #迴圈的執行次數\n",
        "i = result = 1 #i=迴圈的計數器，result=累乘結果\n",
        "#while迴圈\n",
        "while i<=n:  #迴圈繼續的條件:i<=n\n",
        "  result *= i #result = result * i ，迴圈區段\n",
        "  i +=1 #i = i+1,改變迴圈的現況\n",
        "#輸出結果\n",
        "print(\"1*2*...*5=\", result)"
      ],
      "metadata": {
        "colab": {
          "base_uri": "https://localhost:8080/"
        },
        "id": "LdRc1ijrBDxd",
        "outputId": "65f8e25f-a34c-4e58-96db-3c8ff9f1aeb9"
      },
      "execution_count": null,
      "outputs": [
        {
          "output_type": "stream",
          "name": "stdout",
          "text": [
            "1*2*...*5= 120\n"
          ]
        }
      ]
    },
    {
      "cell_type": "code",
      "source": [
        "#上述同例，使用for\n",
        "result =1\n",
        "for i in [1,2,3,4,5]:\n",
        "  result = result * i\n",
        "print(\"1*2*...*5=\", result)  "
      ],
      "metadata": {
        "colab": {
          "base_uri": "https://localhost:8080/"
        },
        "id": "01SD1LxKFKTv",
        "outputId": "efc7eb19-fe09-4b31-9884-68674a4c8c27"
      },
      "execution_count": null,
      "outputs": [
        {
          "output_type": "stream",
          "name": "stdout",
          "text": [
            "1*2*...*5= 120\n"
          ]
        }
      ]
    },
    {
      "cell_type": "markdown",
      "source": [
        "**03-01 以while來處理迴圈整數連加**\n",
        "\n",
        "請使用迴圈敘述撰寫一程式，讓使用者輸入兩個正整數a、b（a < b），利用迴圈計算從a開始連加到b的總和。  \n",
        "例如：輸入a=1、b=100，則輸出結果為5050（1 + 2 + … + 100 = 5050）。"
      ],
      "metadata": {
        "id": "Q7hKdfsZF5Xp"
      }
    },
    {
      "cell_type": "code",
      "source": [
        "# 以while來處理由使用者輸入的迴圈整數連加\n",
        "numa = eval(input()) #第一個整數\n",
        "numb = eval(input()) #最後一個整數\n",
        "totali = 0 #總和\n",
        "i = numa #迴圈的初值\n",
        "while i<=numb: #迴圈的終值，條件計數器<=b\n",
        "  totali += i #迴圈區段\n",
        "  i += 1 #i=i+1\n",
        "\n",
        "#輸出結果\n",
        "print(\"%d +...+%d = %d\"%(numa, numb, totali))"
      ],
      "metadata": {
        "colab": {
          "base_uri": "https://localhost:8080/"
        },
        "id": "OAIc6QZ1GBt7",
        "outputId": "f8ce9e80-f21a-4283-fe64-19950810fb02"
      },
      "execution_count": null,
      "outputs": [
        {
          "output_type": "stream",
          "name": "stdout",
          "text": [
            "1\n",
            "100\n",
            "1 +...+100 = 5050\n"
          ]
        }
      ]
    },
    {
      "cell_type": "markdown",
      "source": [
        "### 亂數的處理"
      ],
      "metadata": {
        "id": "MsoagCXqHB3I"
      }
    },
    {
      "cell_type": "markdown",
      "source": [
        "**02-12**\n",
        "請以選擇敘述寫一程式，利用亂數產生器random產生介於1~100之間的亂數，然後檢視這個論述是偶數或是奇數。\n",
        "\n",
        "Ans:"
      ],
      "metadata": {
        "id": "Qoz-jUO4HIM_"
      }
    },
    {
      "cell_type": "code",
      "source": [
        "# 以亂數來判斷偶奇數\n",
        "# 使用random產生1-100的一整數\n",
        "import random\n",
        "num = random.randint(1, 100) #使用randint 來產生1-100之間的一個整數\n",
        "if num%2 == 0:\n",
        "  print(\"num=\", num,  \"是偶數\")\n",
        "else:\n",
        "  print(\"num=\", num,  \"是奇數\")"
      ],
      "metadata": {
        "colab": {
          "base_uri": "https://localhost:8080/"
        },
        "id": "QTvPH51QHTno",
        "outputId": "82836f67-3063-4825-bdfc-afed29173560"
      },
      "execution_count": null,
      "outputs": [
        {
          "output_type": "stream",
          "name": "stdout",
          "text": [
            "num= 69 是奇數\n"
          ]
        }
      ]
    },
    {
      "cell_type": "code",
      "source": [
        "# 以random來擲骰子，直到點數出現4為止，顯示總共擲了多少次?\n",
        "import random\n",
        "# 擲骰子\n",
        "diceno = random.randint(1, 6) #產生骰子點數1-6\n",
        "t = 1 #擲骰子的次數\n",
        "print(\"第%d次，目前點數:%d\"%(t,diceno))\n",
        "while diceno!=4: #當點數不是4時，將繼續擲下一次的骰子，只有4點才回停止\n",
        "  # 再擲骰子\n",
        "  diceno = random.randint(1, 6) #產生骰子點數1-6\n",
        "  t +=1 #次數+1\n",
        "  print(\"第%d次，目前點數:%d\"%(t,diceno))\n",
        "print(\"共擲了%d次才出現4點:\"%t) #當擲出4點時，顯示結果"
      ],
      "metadata": {
        "colab": {
          "base_uri": "https://localhost:8080/"
        },
        "id": "96bJc8WzIApb",
        "outputId": "cc570c66-d595-4d02-820d-2649a150ab38"
      },
      "execution_count": null,
      "outputs": [
        {
          "output_type": "stream",
          "name": "stdout",
          "text": [
            "第1次，目前點數:6\n",
            "第2次，目前點數:5\n",
            "第3次，目前點數:6\n",
            "第4次，目前點數:1\n",
            "第5次，目前點數:3\n",
            "第6次，目前點數:3\n",
            "第7次，目前點數:4\n",
            "共擲了7次才出現4點:\n"
          ]
        }
      ]
    },
    {
      "cell_type": "markdown",
      "source": [
        "**04-02 不定數迴圈-最小值**\n",
        "請以一程式，讓使用者輸入數字，輸入的動作直到輸入值為9999才結束，然後找到其最小值，並輸出最小值。  \n",
        "Ans:"
      ],
      "metadata": {
        "id": "_R6RiP5QJ4PE"
      }
    },
    {
      "cell_type": "code",
      "source": [
        "thenum = eval(input(\"請輸入一整數，9999就結束輸入:\"))\n",
        "min_num = thenum #預設最小是目前的第一個整數\n",
        "while thenum != 9999: #使用者尚未輸入9999，繼續的輸入及判斷是否為目前最小的整數\n",
        "  thenum = eval(input(\"請輸入一整數，9999就結束輸入:\"))\n",
        "  if thenum < min_num:\n",
        "    min_num = thenum #設最小數是目前的整數  \n",
        "\n",
        "print(\"您所輸入的所有整數，最小整數是:%d\"%(min_num))"
      ],
      "metadata": {
        "colab": {
          "base_uri": "https://localhost:8080/"
        },
        "id": "50RSX9YCKRL7",
        "outputId": "742b9c11-d137-432b-f4c9-cb371af80937"
      },
      "execution_count": null,
      "outputs": [
        {
          "output_type": "stream",
          "name": "stdout",
          "text": [
            "請輸入一整數，9999就結束輸入:30\n",
            "請輸入一整數，9999就結束輸入:15\n",
            "請輸入一整數，9999就結束輸入:60\n",
            "請輸入一整數，9999就結束輸入:44\n",
            "請輸入一整數，9999就結束輸入:52\n",
            "請輸入一整數，9999就結束輸入:3\n",
            "請輸入一整數，9999就結束輸入:75\n",
            "請輸入一整數，9999就結束輸入:9999\n",
            "您所輸入的所有整數，最小整數是:3\n"
          ]
        }
      ]
    },
    {
      "cell_type": "markdown",
      "source": [
        "**04-07 不定數迴圈-閏年判斷**  \n",
        "(1) 請撰寫一程式，以不定數迴圈的方式讓使用者輸入西元年份，然後判斷它是否為閏年（leap year）或平年。其判斷規則如下：每四年一閏，每百年不閏，但每四百年也一閏。  \n",
        "(2) 假設此不定數迴圈輸入-9999則會結束此迴圈。  \n",
        "2017=>2017 is not a leap year.  \n",
        "2000=>2000 is a leap year.\n",
        "Ans:"
      ],
      "metadata": {
        "id": "Xam5taXjMen9"
      }
    },
    {
      "cell_type": "code",
      "source": [
        "theyear = eval(input(\"請輸入一西元年，來判斷是否為閏年:\"))\n",
        "while theyear != -9999:\n",
        "  #開始判斷閏年\n",
        "  if (theyear % 4==0) and (theyear % 100!=0) or (theyear % 400==0):\n",
        "    print(\"%d 是閏年\" % (theyear))\n",
        "  else:\n",
        "    print(\"%d 是平年\" % (theyear))\n",
        "  #在輸入下一個西元年\n",
        "  theyear = eval(input(\"請輸入一西元年，來判斷是否為閏年:\"))"
      ],
      "metadata": {
        "colab": {
          "base_uri": "https://localhost:8080/"
        },
        "id": "wKpVjVijM1SV",
        "outputId": "29420a18-e718-4c0c-bccf-709275ebde93"
      },
      "execution_count": null,
      "outputs": [
        {
          "name": "stdout",
          "output_type": "stream",
          "text": [
            "請輸入一西元年，來判斷是否為閏年:2017\n",
            "2017 是平年\n",
            "請輸入一西元年，來判斷是否為閏年:400\n",
            "400 是閏年\n",
            "請輸入一西元年，來判斷是否為閏年:2020\n",
            "2020 是閏年\n",
            "請輸入一西元年，來判斷是否為閏年:-9999\n"
          ]
        }
      ]
    },
    {
      "cell_type": "markdown",
      "source": [
        "**04-04 數字反轉判斷**\n",
        "\n",
        "請以一程式，讓使用者輸入正整數，將此正整數以反轉的順序輸出，並判斷如輸入0，則輸出0。  \n",
        "例:>>>31283， =>38213"
      ],
      "metadata": {
        "id": "viUDHujbP7x0"
      }
    },
    {
      "cell_type": "code",
      "source": [
        "vnum = eval(input(\"請輸入欲反轉的一整數:\"))\n",
        "if vnum == 0:\n",
        "  print(vnum) #直接輸出\n",
        "else: #非0的整數，反轉\n",
        "  while vnum!=0: #以迴圈的方式，將從最右位數取起，每一位數輸出反轉\n",
        "    print(vnum%10, end='') #整數除10的榆樹=>整數的個位數=>輸出\n",
        "    vnum//=10 #整數除時的商=>去除到該整數的個位數 = vnum = vnum // 10\n"
      ],
      "metadata": {
        "colab": {
          "base_uri": "https://localhost:8080/"
        },
        "id": "75JwTSP9P9ti",
        "outputId": "eb138547-a46a-478e-ac26-9ce6d0bbaf27"
      },
      "execution_count": null,
      "outputs": [
        {
          "output_type": "stream",
          "name": "stdout",
          "text": [
            "請輸入欲反轉的一整數:0\n",
            "0\n"
          ]
        }
      ]
    },
    {
      "cell_type": "code",
      "source": [
        "#V2\n",
        "nums=input(\"請輸入一整數做反轉: \") #輸入數字字串=>字串List=>nums\n",
        "print(nums[::-1]) #反轉\n",
        "\n",
        "#V3\n",
        "print(input(\"請輸入一整數做反轉: \")[::-1])\n"
      ],
      "metadata": {
        "colab": {
          "base_uri": "https://localhost:8080/"
        },
        "id": "QmmHVUmjHyL1",
        "outputId": "d3d2a373-8daf-45d7-b8d0-53ce2816ae3b"
      },
      "execution_count": null,
      "outputs": [
        {
          "output_type": "stream",
          "name": "stdout",
          "text": [
            "請輸入一整數做反轉: 31283\n",
            "38213\n",
            "請輸入一整數做反轉: 55469\n",
            "96455\n"
          ]
        }
      ]
    }
  ]
}